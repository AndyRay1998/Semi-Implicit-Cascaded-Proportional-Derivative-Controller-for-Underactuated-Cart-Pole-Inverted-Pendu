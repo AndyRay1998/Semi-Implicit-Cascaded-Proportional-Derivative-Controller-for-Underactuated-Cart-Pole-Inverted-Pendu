{
 "cells": [
  {
   "cell_type": "code",
   "execution_count": 1,
   "id": "fed0763c",
   "metadata": {},
   "outputs": [],
   "source": [
    "import numpy as np\n",
    "import matplotlib.pyplot as plt\n",
    "import sympy"
   ]
  },
  {
   "cell_type": "markdown",
   "id": "acbcc2c1",
   "metadata": {},
   "source": [
    "# linear"
   ]
  },
  {
   "cell_type": "code",
   "execution_count": 18,
   "id": "e411a266",
   "metadata": {},
   "outputs": [
    {
     "data": {
      "text/latex": [
       "$\\displaystyle \\left[\\begin{matrix}0 & 1 & 0 & 0\\\\24.5 & -4.16666666666667 & 200.0 & 212.95\\\\-4.7453137254902 & -0.620385620915033 & 71.2603921568628 & 75.5803849019608\\\\0 & 0 & -80 & -85.18\\end{matrix}\\right]$"
      ],
      "text/plain": [
       "Matrix([\n",
       "[               0,                  1,                0,                0],\n",
       "[            24.5,  -4.16666666666667,            200.0,           212.95],\n",
       "[-4.7453137254902, -0.620385620915033, 71.2603921568628, 75.5803849019608],\n",
       "[               0,                  0,              -80,           -85.18]])"
      ]
     },
     "execution_count": 18,
     "metadata": {},
     "output_type": "execute_result"
    }
   ],
   "source": [
    "M = 0.5\n",
    "m = 0.2\n",
    "F0 = 0.1\n",
    "F1 = 0.1\n",
    "I = 0.006\n",
    "g = 9.8\n",
    "l = 0.3\n",
    "dt = 0.01\n",
    "\n",
    "# M,m,F0,F1,I,g,l,dt = sympy.symbols(\"M m F0 F1 J g l dt\")\n",
    "e1,e2,e3,e4 = sympy.symbols(\"e1 e2 e3 e4\")\n",
    "\n",
    "\n",
    "p = I*(M+m)+M*m*l**2 # denominator for the A and B matrices\n",
    "A = (M+m)*m*g*l/p\n",
    "B = -F1*(M+m)/p\n",
    "C = F0*m*l/p\n",
    "D = -m*l/p\n",
    "E = -m*m*g*l*l/p\n",
    "F = F1*m*l/p\n",
    "G = -F0*(I+m*l*l)/p\n",
    "H = (I+m*l*l)/p\n",
    "\n",
    "# p,A,B,C,D,E,F,G,H,dt = sympy.symbols(\"p A B C D E F G H dt\")\n",
    "\n",
    "\n",
    "kp1 = 196.1\n",
    "kd1 = 34.1\n",
    "kp2 = 80\n",
    "kd2 = 85.18\n",
    "\n",
    "# kp1,kd1,kp2,kd2 = sympy.symbols(\"kp1 kd1 kp2 kd2\")\n",
    "x_d_r = ( kp1*e1+kd1*e2+A*e1+B*e2-E*D/H*e1-F*D/H*e2-G*D/H*e4-D/H*kd2*e4-D/H*kp2*e3) / C\n",
    "# u = E/H*e1 +F/H*e2+G/H*e4 +(kp2*dt)*x_d_r/H +kd2/H*e4\n",
    "u = E/H*e1 +F/H*e2+G/H*e4 +kp2*e3/H +kd2/H*e4\n",
    "\n",
    "e2_d = A*e1+B*e2+C*e4-D*u\n",
    "e4_d = -kp2*e3 -kd2*e4\n",
    "x_d_r_d = ( kp1*e2+kd1*e2_d+A*e2+B*e2_d-E*D/H*e2-F*D/H*e2_d-G*D/H*e4_d-D/H*kd2*e4_d-D/H*kp2*e4) / (C + D/H*kp2*dt)\n",
    "e3_d = x_d_r_d * dt + e4\n",
    "\n",
    "\n",
    "j21 = sympy.diff(e2_d,e1)\n",
    "j22 = sympy.diff(e2_d,e2)\n",
    "j23 = sympy.diff(e2_d,e3)\n",
    "j24 = sympy.diff(e2_d,e4)\n",
    "\n",
    "j31 = sympy.diff(e3_d,e1)\n",
    "j32 = sympy.diff(e3_d,e2)\n",
    "j33 = sympy.diff(e3_d,e3)\n",
    "j34 = sympy.diff(e3_d,e4)\n",
    "\n",
    "JM = sympy.Matrix([[0, 1, 0, 0],\n",
    "              [j21,j22,j23,j24],\n",
    "              [j31,j32,j33,j34],\n",
    "              [0, 0, -kp2, -kd2]])\n",
    "JM"
   ]
  },
  {
   "cell_type": "markdown",
   "id": "3d2b2891",
   "metadata": {},
   "source": [
    "# controllability matrix"
   ]
  },
  {
   "cell_type": "code",
   "execution_count": 3,
   "id": "3cbdf52a",
   "metadata": {},
   "outputs": [],
   "source": [
    "Y = sympy.Matrix([[0, 1, 0, 0],\n",
    "              [A, B, 0, C],\n",
    "              [0, 0, 0, 1],\n",
    "              [E, F, 0, G]])\n",
    "Z = sympy.Matrix([[0],\n",
    "              [D],\n",
    "              [0],\n",
    "              [H]])\n",
    "controllability = sympy.Matrix([Z,Y*Z,Y*Y*Z,Y*Y*Y*Z]).reshape(4,4)"
   ]
  },
  {
   "cell_type": "code",
   "execution_count": 4,
   "id": "61422a50",
   "metadata": {},
   "outputs": [
    {
     "data": {
      "text/plain": [
       "4"
      ]
     },
     "execution_count": 4,
     "metadata": {},
     "output_type": "execute_result"
    }
   ],
   "source": [
    "controllability.rank() # full-rank means controllable"
   ]
  },
  {
   "cell_type": "code",
   "execution_count": 5,
   "id": "04f6be1b",
   "metadata": {},
   "outputs": [
    {
     "data": {
      "text/plain": [
       "[(0.0542678119351765 - 5.60854288125143*I,\n",
       "  1,\n",
       "  [Matrix([\n",
       "   [  -0.0812750219100699 - 0.222862759712358*I],\n",
       "   [-0.0857098719840708 - 0.00601246737240708*I],\n",
       "   [  -0.240882068347694 + 0.0913942582267512*I],\n",
       "   [   -0.904164959106837 + 0.229025925743201*I]])]),\n",
       " (-7.86459801387932 + 2.58322255833338e-63*I,\n",
       "  1,\n",
       "  [Matrix([\n",
       "   [   0.175423648884227 - 0.145124357659937*I],\n",
       "   [-0.0569399037152105 + 0.0471052050532939*I],\n",
       "   [    0.27774187032532 - 0.229770106725077*I],\n",
       "   [  -0.901149823619323 + 0.745502616893052*I]])]),\n",
       " (0.0542678119351765 + 5.60854288125143*I,\n",
       "  1,\n",
       "  [Matrix([\n",
       "   [   0.135426636475377 + 0.231166177230037*I],\n",
       "   [-0.0564708679236207 + 0.0789138114605124*I],\n",
       "   [  -0.252944206617124 + 0.143822292179763*I],\n",
       "   [  -0.850213030556757 + 0.621934567963404*I]])]),\n",
       " (-165.708257745987,\n",
       "  1,\n",
       "  [Matrix([\n",
       "   [0.0117502004883562 + 9.1351134127957e-65*I],\n",
       "   [-0.014943646329836 - 1.4231094001756e-65*I],\n",
       "   [0.135344255511112 + 3.01859749199677e-64*I],\n",
       "   [  -1.10826700392494 - 1.547084881073e-64*I]])])]"
      ]
     },
     "execution_count": 5,
     "metadata": {},
     "output_type": "execute_result"
    }
   ],
   "source": [
    "controllability.eigenvects()"
   ]
  },
  {
   "cell_type": "markdown",
   "id": "17dc26c5",
   "metadata": {},
   "source": [
    "## eigen value calculation"
   ]
  },
  {
   "cell_type": "code",
   "execution_count": 7,
   "id": "0a0f1f1d",
   "metadata": {},
   "outputs": [
    {
     "data": {
      "text/plain": [
       "[(-3.9665179031447 - 4.77604200000583*I,\n",
       "  1,\n",
       "  [Matrix([\n",
       "   [ 0.124319680756402 - 0.0268652141741582*I],\n",
       "   [  -0.621425630668435 - 0.48719466372628*I],\n",
       "   [   0.0272252408291383 - 0.4271167764268*I],\n",
       "   [-0.0513835176900403 + 0.417713061916131*I]])]),\n",
       " (-8.36536276799311 - 8.70352878371236e-64*I,\n",
       "  1,\n",
       "  [Matrix([\n",
       "   [  0.0445359107965033 - 0.137472102314831*I],\n",
       "   [   -0.372559050015731 + 1.15000400634223*I],\n",
       "   [-0.0217226054199875 + 0.0670526813403734*I],\n",
       "   [ 0.0226234022084908 - 0.0698332336196301*I]])]),\n",
       " (-1.78787593552139 + 1.20572403176722e-63*I,\n",
       "  1,\n",
       "  [Matrix([\n",
       "   [0.0380985757264444 - 0.118673379808608*I],\n",
       "   [ -0.0681155267189495 + 0.2121732799468*I],\n",
       "   [ 0.255475527591875 - 0.795781567673434*I],\n",
       "   [-0.245083602757826 + 0.763411726563662*I]])]),\n",
       " (-3.9665179031447 + 4.77604200000583*I,\n",
       "  1,\n",
       "  [Matrix([\n",
       "   [-0.0618857602062137 - 0.141954735582987*I],\n",
       "   [  0.923452755051736 + 0.267497010178925*I],\n",
       "   [  0.402683239991128 - 0.330722935464677*I],\n",
       "   [ -0.376206602026623 + 0.347905454114581*I]])])]"
      ]
     },
     "execution_count": 7,
     "metadata": {},
     "output_type": "execute_result"
    }
   ],
   "source": [
    "JM.eigenvects()"
   ]
  },
  {
   "cell_type": "code",
   "execution_count": 8,
   "id": "f364f21b",
   "metadata": {},
   "outputs": [
    {
     "data": {
      "text/plain": [
       "{313.978512935583: 1,\n",
       " 14.5746262318222: 1,\n",
       " -15.5077031195116: 1,\n",
       " -349.217985067501: 1}"
      ]
     },
     "execution_count": 8,
     "metadata": {},
     "output_type": "execute_result"
    }
   ],
   "source": [
    "(JM+JM.T).eigenvals()"
   ]
  },
  {
   "cell_type": "code",
   "execution_count": null,
   "id": "b32844cc",
   "metadata": {},
   "outputs": [],
   "source": []
  },
  {
   "cell_type": "markdown",
   "id": "22d06f66",
   "metadata": {},
   "source": [
    "# nonlinear "
   ]
  },
  {
   "cell_type": "code",
   "execution_count": 16,
   "id": "52cb163a",
   "metadata": {},
   "outputs": [],
   "source": [
    "import sympy\n",
    "e1, e2, e3, e4 = sympy.symbols(\"e1 e2 e3 e4\")\n",
    "# M,m,F0,F1,J,g,l,dt = sympy.symbols(\"M m F0 F1 J g l dt\")\n",
    "\n",
    "M = .5\n",
    "m = 0.2\n",
    "F0 = 0.1\n",
    "F1 = 0.1\n",
    "J = 0.006\n",
    "g = 9.8\n",
    "l = 0.3\n",
    "dt = 0.01\n",
    "\n",
    "kp1 = 196.10\n",
    "kd1 = 34.10\n",
    "kp2 = 80.00\n",
    "kd2 = 85.18\n",
    "\n",
    "p = (M+m)*(J+m*l**2) - m**2*l**2*sympy.cos(e1)**2\n",
    "p_d = 2*m*m*l*l*sympy.cos(e1)*sympy.sin(e1)*e2\n",
    "\n",
    "A = p*(kp1*e1+kd1*e2) - F1*(M+m)*e2 + (M+m)*m*g*l*sympy.sin(e1)\n",
    "A += m*l*sympy.cos(e1)/(J+m*l*l) * (F1*m*l*e2*sympy.cos(e1) -F0*(J+m*l*l)*e4 -m*m*g*l*l*sympy.sin(e1)*sympy.cos(e1))\n",
    "A += m*l*sympy.cos(e1)*(p/(J+m*l*l)*(kd2*e4+kp2*e3))\n",
    "B = F0*m*l*sympy.cos(e1) # -p*m*l*sympy.cos(e1)*kp2*dt/(J+m*l*l)\n",
    "\n",
    "u = 1/(J+m*l*l) * (F1*m*l*e2*sympy.cos(e1) +(J+m*l*l)*m*l*e2*e2*sympy.sin(e1)\\\n",
    "                   -F0*(J+m*l*l)*e4 \\\n",
    "                   -m*m*g*l*l*sympy.sin(e1)*sympy.cos(e1)\\\n",
    "                   +p*kp2*e3 \\\n",
    "                   +p*kd2*e4 )\n",
    "\n",
    "e1_d = e2\n",
    "e2_d = -F1/p*(M+m)*e2 -m*m*l*l/p*e2*e2*sympy.sin(e1)*sympy.cos(e1)+F0*m*l/p*sympy.cos(e1)*e4 +(M+m)*m*g*l/p*sympy.sin(e1) +m*l/p*sympy.cos(e1)*u\n",
    "e4_d = -kp2*e3-kd2*e4\n",
    "\n",
    "A_d = p_d*kp1*e1+p*kp1*e2 +p_d*kd1*e2+p*kd1*e2_d -F1*(M+m)*e2_d+(M+m)*m*g*l*sympy.cos(e1)*e2\n",
    "A_d += m*l/(J+m*l*l)*( F1*m*l*(e2_d*sympy.cos(e1)*sympy.cos(e1)-e2*2*sympy.cos(e1)*sympy.sin(e1)*e2)\\\n",
    "                      - F0*(J+m*l*l)*(e4_d*sympy.cos(e1)-e4*sympy.sin(e1)*e2)\\\n",
    "                      -m*m*g*l*l*( -sympy.sin(e1)*e2*sympy.sin(2*e1)/2 +sympy.cos(e1)*sympy.cos(2*e1)*e2))\n",
    "\n",
    "A_d += m*l*kd2/(J+m*l*l)*((p_d*e4+p*e4_d)*sympy.cos(e1)+p*e4*(-sympy.sin(e1))*e2)\n",
    "A_d += m*l*kp2/(J+m*l*l)*((p_d*e3+p*e4)*sympy.cos(e1)+p*e3*(-sympy.sin(e1))*e2)\n",
    "\n",
    "B_d = -F0*m*l*sympy.sin(e1)*e2 # - m*l*kp2*dt/(J+m*l*l)*(p_d*sympy.cos(e1)-p*sympy.sin(e1)*e2)\n",
    "\n",
    "p3 = p*m*l*sympy.cos(e1)*kp2*dt/(J+m*l*l)\n",
    "x3_d = (A_d*B-B_d*A)/(B*B-p3) * dt + e4\n",
    "\n",
    "#x_d_r = p*(kp1*e1+kd1*e2) - F1*(M+m)*e2 + m*m*l*l*e2*sympy.sin(e1)*sympy.cos(e1) - (M+m)*m*g*l*sympy.sin(e1) + F0*m*l*sympy.cos(e1)*e4\n",
    "#x_d_r += m*l*sympy.cos(e1)/(J+m*l*l) * (F1*m*l*e2*sympy.cos(e1) +(J+m*l*l)*m*l*e2**2*sympy.sin(e1) -F0*(J+m*l*l)*e4 -m*m*g*l*l*sympy.sin(e1)*sympy.cos(e1))\n",
    "#x_d_r += m*l*sympy.cos(e1)*(p/(J+m*l*l)*kd2*e4)\n",
    "#x_d_r /= (F0*m*l*sympy.cos(e1)-p*m*l*sympy.cos(e1)*kp2*dt/(J+m*l*l))\n",
    "\n",
    "j21 = sympy.diff(e2_d, e1)\n",
    "j22 = sympy.diff(e2_d, e2)\n",
    "j23 = sympy.diff(e2_d, e3)\n",
    "j24 = sympy.diff(e2_d, e4)\n",
    "\n",
    "j31 = sympy.diff(x3_d, e1)\n",
    "j32 = sympy.diff(x3_d, e2)\n",
    "j33 = sympy.diff(x3_d, e3)\n",
    "j34 = sympy.diff(x3_d, e4)\n",
    "\n",
    "JM = sympy.Matrix([[0,1,0,0],\n",
    "                   [j21,j22,j23,j24],\n",
    "                   [j31,j32,j33,j34],\n",
    "                   [0,0,-kp2,-kd2]])"
   ]
  },
  {
   "cell_type": "code",
   "execution_count": 17,
   "id": "cf2adaae",
   "metadata": {},
   "outputs": [
    {
     "data": {
      "text/latex": [
       "$\\displaystyle \\left[\\begin{matrix}0 & 1.0 & 0 & 0\\\\24.5 & -4.16666666666667 & 200.0 & 212.95\\\\-0.0220310423304506 & -0.00288026096191777 & 0.330840236686391 & 1.34625394902139\\\\0 & 0 & -80.0 & -85.18\\end{matrix}\\right]$"
      ],
      "text/plain": [
       "Matrix([\n",
       "[                  0,                  1.0,                 0,                0],\n",
       "[               24.5,    -4.16666666666667,             200.0,           212.95],\n",
       "[-0.0220310423304506, -0.00288026096191777, 0.330840236686391, 1.34625394902139],\n",
       "[                  0,                    0,             -80.0,           -85.18]])"
      ]
     },
     "execution_count": 17,
     "metadata": {},
     "output_type": "execute_result"
    }
   ],
   "source": [
    "JM.evalf(subs={'e1':0, 'e2':0, 'e3':0, 'e4':0})"
   ]
  },
  {
   "cell_type": "code",
   "execution_count": 19,
   "id": "1e33a34e",
   "metadata": {},
   "outputs": [
    {
     "data": {
      "text/plain": [
       "[(-3.9665179031447 - 4.77604200000583*I,\n",
       "  1,\n",
       "  [Matrix([\n",
       "   [ 0.124319680756402 - 0.0268652141741582*I],\n",
       "   [  -0.621425630668435 - 0.48719466372628*I],\n",
       "   [   0.0272252408291383 - 0.4271167764268*I],\n",
       "   [-0.0513835176900403 + 0.417713061916131*I]])]),\n",
       " (-8.36536276799311 - 8.70352878371236e-64*I,\n",
       "  1,\n",
       "  [Matrix([\n",
       "   [  0.0445359107965033 - 0.137472102314831*I],\n",
       "   [   -0.372559050015731 + 1.15000400634223*I],\n",
       "   [-0.0217226054199875 + 0.0670526813403734*I],\n",
       "   [ 0.0226234022084908 - 0.0698332336196301*I]])]),\n",
       " (-1.78787593552139 + 1.20572403176722e-63*I,\n",
       "  1,\n",
       "  [Matrix([\n",
       "   [0.0380985757264444 - 0.118673379808608*I],\n",
       "   [ -0.0681155267189495 + 0.2121732799468*I],\n",
       "   [ 0.255475527591875 - 0.795781567673434*I],\n",
       "   [-0.245083602757826 + 0.763411726563662*I]])]),\n",
       " (-3.9665179031447 + 4.77604200000583*I,\n",
       "  1,\n",
       "  [Matrix([\n",
       "   [-0.0618857602062137 - 0.141954735582987*I],\n",
       "   [  0.923452755051736 + 0.267497010178925*I],\n",
       "   [  0.402683239991128 - 0.330722935464677*I],\n",
       "   [ -0.376206602026623 + 0.347905454114581*I]])])]"
      ]
     },
     "execution_count": 19,
     "metadata": {},
     "output_type": "execute_result"
    }
   ],
   "source": [
    "JM.evalf(subs={'e1':0, 'e2':0, 'e3':0, 'e4':0}).eigenvects()"
   ]
  },
  {
   "cell_type": "code",
   "execution_count": 5,
   "id": "cc066897",
   "metadata": {},
   "outputs": [
    {
     "name": "stdout",
     "output_type": "stream",
     "text": [
      "0.0\n"
     ]
    },
    {
     "ename": "TypeError",
     "evalue": "'int' object is not iterable",
     "output_type": "error",
     "traceback": [
      "\u001b[1;31m---------------------------------------------------------------------------\u001b[0m",
      "\u001b[1;31mTypeError\u001b[0m                                 Traceback (most recent call last)",
      "\u001b[1;32m~\\AppData\\Local\\Temp/ipykernel_54636/873168419.py\u001b[0m in \u001b[0;36m<module>\u001b[1;34m\u001b[0m\n\u001b[0;32m     13\u001b[0m     \u001b[1;31m#y1.append(a1)\u001b[0m\u001b[1;33m\u001b[0m\u001b[1;33m\u001b[0m\u001b[1;33m\u001b[0m\u001b[0m\n\u001b[0;32m     14\u001b[0m     \u001b[1;31m#y2.append(a2)\u001b[0m\u001b[1;33m\u001b[0m\u001b[1;33m\u001b[0m\u001b[1;33m\u001b[0m\u001b[0m\n\u001b[1;32m---> 15\u001b[1;33m     \u001b[0my1\u001b[0m\u001b[1;33m.\u001b[0m\u001b[0mappend\u001b[0m\u001b[1;33m(\u001b[0m\u001b[0mmin\u001b[0m\u001b[1;33m(\u001b[0m\u001b[0mnp\u001b[0m\u001b[1;33m.\u001b[0m\u001b[0mreal\u001b[0m\u001b[1;33m(\u001b[0m\u001b[1;36m1\u001b[0m\u001b[1;33m)\u001b[0m\u001b[1;33m)\u001b[0m\u001b[1;33m)\u001b[0m\u001b[1;33m\u001b[0m\u001b[1;33m\u001b[0m\u001b[0m\n\u001b[0m\u001b[0;32m     16\u001b[0m \u001b[0mX\u001b[0m \u001b[1;33m=\u001b[0m \u001b[0mnp\u001b[0m\u001b[1;33m.\u001b[0m\u001b[0marray\u001b[0m\u001b[1;33m(\u001b[0m\u001b[0mX\u001b[0m\u001b[1;33m)\u001b[0m\u001b[1;33m\u001b[0m\u001b[1;33m\u001b[0m\u001b[0m\n",
      "\u001b[1;31mTypeError\u001b[0m: 'int' object is not iterable"
     ]
    }
   ],
   "source": [
    "import shap\n",
    "X = []\n",
    "y1 = []\n",
    "#y2 = []\n",
    "for h in range(1):\n",
    "    if h % 10==0:\n",
    "        print(h/10)\n",
    "    state = np.random.uniform(low=[-1.5,-5,-2,-3], high=[1.5,5,2,3], size=(4))\n",
    "\n",
    "    X.append(state)\n",
    "    eigenval, eigenvec = np.linalg.eig(np.array(JM.evalf(subs={'e1':state[0], 'e2':state[1], 'e3':state[2], 'e4':state[3]}), dtype=np.float64))\n",
    "    #a1, a2 = np.real(eigenval[0]), np.imag(eigenval[0])\n",
    "    #y1.append(a1)\n",
    "    #y2.append(a2)\n",
    "    y1.append(min(np.real(1)))\n",
    "X = np.array(X)"
   ]
  },
  {
   "cell_type": "code",
   "execution_count": 6,
   "id": "0f915ab4",
   "metadata": {},
   "outputs": [
    {
     "data": {
      "text/plain": [
       "array([  8.32662804,   0.1063693 , -23.02565834, -23.02565834])"
      ]
     },
     "execution_count": 6,
     "metadata": {},
     "output_type": "execute_result"
    }
   ],
   "source": [
    "np.real(eigenval)"
   ]
  },
  {
   "cell_type": "code",
   "execution_count": 7,
   "id": "61866d28",
   "metadata": {},
   "outputs": [
    {
     "data": {
      "text/plain": [
       "array([  8.32662804+0.j        ,   0.1063693 +0.j        ,\n",
       "       -23.02565834+2.67529451j, -23.02565834-2.67529451j])"
      ]
     },
     "execution_count": 7,
     "metadata": {},
     "output_type": "execute_result"
    }
   ],
   "source": [
    "eigenval"
   ]
  },
  {
   "cell_type": "code",
   "execution_count": 8,
   "id": "c401c916",
   "metadata": {},
   "outputs": [
    {
     "data": {
      "text/plain": [
       "[array([ 1.10559851, -1.56989816,  0.78874222, -1.89187979])]"
      ]
     },
     "execution_count": 8,
     "metadata": {},
     "output_type": "execute_result"
    }
   ],
   "source": [
    "X"
   ]
  },
  {
   "cell_type": "code",
   "execution_count": 35,
   "id": "05a41f2e",
   "metadata": {},
   "outputs": [],
   "source": [
    "a,b,c = sympy.symbols('a b c')\n",
    "m = sympy.Matrix([[-3,1,0], [-3,0,1], [-1+a,0,0]])"
   ]
  },
  {
   "cell_type": "code",
   "execution_count": 36,
   "id": "6124b2ed",
   "metadata": {},
   "outputs": [
    {
     "data": {
      "text/latex": [
       "$\\displaystyle \\left[\\begin{matrix}-3 & 1 & 0\\\\-3 & 0 & 1\\\\a - 1 & 0 & 0\\end{matrix}\\right]$"
      ],
      "text/plain": [
       "Matrix([\n",
       "[   -3, 1, 0],\n",
       "[   -3, 0, 1],\n",
       "[a - 1, 0, 0]])"
      ]
     },
     "execution_count": 36,
     "metadata": {},
     "output_type": "execute_result"
    }
   ],
   "source": [
    "m"
   ]
  },
  {
   "cell_type": "code",
   "execution_count": 37,
   "id": "83e08a3f",
   "metadata": {},
   "outputs": [
    {
     "data": {
      "text/plain": [
       "{a**(1/3) - 1: 1,\n",
       " a**(1/3)*(-1/2 + sqrt(3)*I/2) - 1: 1,\n",
       " a**(1/3)*(-1/2 - sqrt(3)*I/2) - 1: 1}"
      ]
     },
     "execution_count": 37,
     "metadata": {},
     "output_type": "execute_result"
    }
   ],
   "source": [
    "m.eigenvals()"
   ]
  },
  {
   "cell_type": "code",
   "execution_count": 21,
   "id": "31377ef4",
   "metadata": {},
   "outputs": [],
   "source": [
    "h1 = c/3 - (3*b + 9*c + (3 - c)**2 - 9)/(3*(-27*a/2 - 81*b/2 - 81*c/2 + (3 - c)**3 - (27 - 9*c)*(-b - 3*c + 3)/2 + (-4*(3*b + 9*c + (3 - c)**2 - 9)**3 + (-27*a - 81*b - 81*c + 2*(3 - c)**3 - (27 - 9*c)*(-b - 3*c + 3) + 27)**2)**0.5/2 + 27/2)**(1/3)) - (-27*a/2 - 81*b/2 - 81*c/2 + (3 - c)**3 - (27 - 9*c)*(-b - 3*c + 3)/2 + (-4*(3*b + 9*c + (3 - c)**2 - 9)**3 + (-27*a - 81*b - 81*c + 2*(3 - c)**3 - (27 - 9*c)*(-b - 3*c + 3) + 27)**2)**0.5/2 + 27/2)**(1/3)/3 - 1"
   ]
  },
  {
   "cell_type": "code",
   "execution_count": 22,
   "id": "c431f733",
   "metadata": {},
   "outputs": [],
   "source": [
    "h2 =c/3 - (3*b + 9*c + (3 - c)**2 - 9)/(3*(-1/2 + sympy.sqrt(3)*I/2)*(-27*a/2 - 81*b/2 - 81*c/2 + (3 - c)**3 - (27 - 9*c)*(-b - 3*c + 3)/2 + sympy.sqrt(-4*(3*b + 9*c + (3 - c)**2 - 9)**3 + (-27*a - 81*b - 81*c + 2*(3 - c)**3 - (27 - 9*c)*(-b - 3*c + 3) + 27)**2)/2 + 27/2)**(1/3)) - (-1/2 + sympy.sqrt(3)*I/2)*(-27*a/2 - 81*b/2 - 81*c/2 + (3 - c)**3 - (27 - 9*c)*(-b - 3*c + 3)/2 + sympy.sqrt(-4*(3*b + 9*c + (3 - c)**2 - 9)**3 + (-27*a - 81*b - 81*c + 2*(3 - c)**3 - (27 - 9*c)*(-b - 3*c + 3) + 27)**2)/2 + 27/2)**(1/3)/3 - 1"
   ]
  },
  {
   "cell_type": "code",
   "execution_count": 30,
   "id": "0042cf8f",
   "metadata": {},
   "outputs": [],
   "source": [
    "h3 =c/3 - (3*b + 9*c + (3 - c)**2 - 9)/(3*(-1/2 - sympy.sqrt(3)*I/2)*(-27*a/2 - 81*b/2 - 81*c/2 + (3 - c)**3 - (27 - 9*c)*(-b - 3*c + 3)/2 + sympy.sqrt(-4*(3*b + 9*c + (3 - c)**2 - 9)**3 + (-27*a - 81*b - 81*c + 2*(3 - c)**3 - (27 - 9*c)*(-b - 3*c + 3) + 27)**2)/2 + 27/2)**(1/3)) - (-1/2 - sympy.sqrt(3)*I/2)*(-27*a/2 - 81*b/2 - 81*c/2 + (3 - c)**3 - (27 - 9*c)*(-b - 3*c + 3)/2 + sympy.sqrt(-4*(3*b + 9*c + (3 - c)**2 - 9)**3 + (-27*a - 81*b - 81*c + 2*(3 - c)**3 - (27 - 9*c)*(-b - 3*c + 3) + 27)**2)/2 + 27/2)**(1/3)/3 - 1"
   ]
  },
  {
   "cell_type": "code",
   "execution_count": 29,
   "id": "84230b55",
   "metadata": {},
   "outputs": [
    {
     "data": {
      "text/latex": [
       "$\\displaystyle \\frac{c}{3} - \\frac{0.097064496081811 \\left(3 b + 9 c + \\left(3 - c\\right)^{2} - 9\\right)}{\\left(- \\frac{a}{3} - b - c + \\frac{2 \\left(3 - c\\right)^{3}}{81} - \\frac{\\left(27 - 9 c\\right) \\left(- b - 3 c + 3\\right)}{81} + \\frac{\\left(- 4 \\left(3 b + 9 c + \\left(3 - c\\right)^{2} - 9\\right)^{3} + \\left(- 27 a - 81 b - 81 c + 2 \\left(3 - c\\right)^{3} - \\left(27 - 9 c\\right) \\left(- b - 3 c + 3\\right) + 27\\right)^{2}\\right)^{0.5}}{81} + 0.333333333333333\\right)^{0.333333333333333}} - 1.14471424255333 \\left(- \\frac{a}{3} - b - c + \\frac{2 \\left(3 - c\\right)^{3}}{81} - \\frac{\\left(27 - 9 c\\right) \\left(- b - 3 c + 3\\right)}{81} + \\frac{\\left(- 4 \\left(3 b + 9 c + \\left(3 - c\\right)^{2} - 9\\right)^{3} + \\left(- 27 a - 81 b - 81 c + 2 \\left(3 - c\\right)^{3} - \\left(27 - 9 c\\right) \\left(- b - 3 c + 3\\right) + 27\\right)^{2}\\right)^{0.5}}{81} + 0.333333333333333\\right)^{0.333333333333333} - 1$"
      ],
      "text/plain": [
       "c/3 - 0.097064496081811*(3*b + 9*c + (3 - c)**2 - 9)/(-a/3 - b - c + 2*(3 - c)**3/81 - (27 - 9*c)*(-b - 3*c + 3)/81 + (-4*(3*b + 9*c + (3 - c)**2 - 9)**3 + (-27*a - 81*b - 81*c + 2*(3 - c)**3 - (27 - 9*c)*(-b - 3*c + 3) + 27)**2)**0.5/81 + 0.333333333333333)**0.333333333333333 - 1.14471424255333*(-a/3 - b - c + 2*(3 - c)**3/81 - (27 - 9*c)*(-b - 3*c + 3)/81 + (-4*(3*b + 9*c + (3 - c)**2 - 9)**3 + (-27*a - 81*b - 81*c + 2*(3 - c)**3 - (27 - 9*c)*(-b - 3*c + 3) + 27)**2)**0.5/81 + 0.333333333333333)**0.333333333333333 - 1"
      ]
     },
     "execution_count": 29,
     "metadata": {},
     "output_type": "execute_result"
    }
   ],
   "source": [
    "h1"
   ]
  },
  {
   "cell_type": "code",
   "execution_count": 24,
   "id": "462e9797",
   "metadata": {},
   "outputs": [
    {
     "data": {
      "text/latex": [
       "$\\displaystyle \\frac{c}{3} - \\frac{0.291193488245433 \\left(3 b + 9 c + \\left(3 - c\\right)^{2} - 9\\right)}{\\left(-1.5 + 0.009 \\sqrt{3}\\right) \\left(- \\frac{a}{3} - b - c + \\frac{2 \\left(3 - c\\right)^{3}}{81} - \\frac{\\left(27 - 9 c\\right) \\left(- b - 3 c + 3\\right)}{81} + \\frac{\\sqrt{- 4 \\left(3 b + 9 c + \\left(3 - c\\right)^{2} - 9\\right)^{3} + \\left(- 27 a - 81 b - 81 c + 2 \\left(3 - c\\right)^{3} - \\left(27 - 9 c\\right) \\left(- b - 3 c + 3\\right) + 27\\right)^{2}}}{81} + 0.333333333333333\\right)^{0.333333333333333}} - 1.14471424255333 \\left(-0.5 + 0.003 \\sqrt{3}\\right) \\left(- \\frac{a}{3} - b - c + \\frac{2 \\left(3 - c\\right)^{3}}{81} - \\frac{\\left(27 - 9 c\\right) \\left(- b - 3 c + 3\\right)}{81} + \\frac{\\sqrt{- 4 \\left(3 b + 9 c + \\left(3 - c\\right)^{2} - 9\\right)^{3} + \\left(- 27 a - 81 b - 81 c + 2 \\left(3 - c\\right)^{3} - \\left(27 - 9 c\\right) \\left(- b - 3 c + 3\\right) + 27\\right)^{2}}}{81} + 0.333333333333333\\right)^{0.333333333333333} - 1$"
      ],
      "text/plain": [
       "c/3 - 0.291193488245433*(3*b + 9*c + (3 - c)**2 - 9)/((-1.5 + 0.009*sqrt(3))*(-a/3 - b - c + 2*(3 - c)**3/81 - (27 - 9*c)*(-b - 3*c + 3)/81 + sqrt(-4*(3*b + 9*c + (3 - c)**2 - 9)**3 + (-27*a - 81*b - 81*c + 2*(3 - c)**3 - (27 - 9*c)*(-b - 3*c + 3) + 27)**2)/81 + 0.333333333333333)**0.333333333333333) - 1.14471424255333*(-0.5 + 0.003*sqrt(3))*(-a/3 - b - c + 2*(3 - c)**3/81 - (27 - 9*c)*(-b - 3*c + 3)/81 + sqrt(-4*(3*b + 9*c + (3 - c)**2 - 9)**3 + (-27*a - 81*b - 81*c + 2*(3 - c)**3 - (27 - 9*c)*(-b - 3*c + 3) + 27)**2)/81 + 0.333333333333333)**0.333333333333333 - 1"
      ]
     },
     "execution_count": 24,
     "metadata": {},
     "output_type": "execute_result"
    }
   ],
   "source": [
    "h2"
   ]
  },
  {
   "cell_type": "code",
   "execution_count": 26,
   "id": "4eda70cd",
   "metadata": {},
   "outputs": [
    {
     "data": {
      "text/plain": [
       "-0.5658142006234398"
      ]
     },
     "execution_count": 26,
     "metadata": {},
     "output_type": "execute_result"
    }
   ],
   "source": [
    "h3 = c/3 - (3*b + 9*c + (3 - c)**2 - 9)/(3*(-1/2 - sqrt(3)*I/2)*(-27*a/2 - 81*b/2 - 81*c/2 + (3 - c)**3 - (27 - 9*c)*(-b - 3*c + 3)/2 + sqrt(-4*(3*b + 9*c + (3 - c)**2 - 9)**3 + (-27*a - 81*b - 81*c + 2*(3 - c)**3 - (27 - 9*c)*(-b - 3*c + 3) + 27)**2)/2 + 27/2)**(1/3)) - (-1/2 - sqrt(3)*I/2)*(-27*a/2 - 81*b/2 - 81*c/2 + (3 - c)**3 - (27 - 9*c)*(-b - 3*c + 3)/2 + sqrt(-4*(3*b + 9*c + (3 - c)**2 - 9)**3 + (-27*a - 81*b - 81*c + 2*(3 - c)**3 - (27 - 9*c)*(-b - 3*c + 3) + 27)**2)/2 + 27/2)**(1/3)/3 - 1"
   ]
  },
  {
   "cell_type": "code",
   "execution_count": 31,
   "id": "05e87b1f",
   "metadata": {},
   "outputs": [
    {
     "data": {
      "text/latex": [
       "$\\displaystyle \\frac{c}{3} - \\frac{0.291193488245433 \\left(3 b + 9 c + \\left(3 - c\\right)^{2} - 9\\right)}{\\left(-1.5 - 0.009 \\sqrt{3}\\right) \\left(- \\frac{a}{3} - b - c + \\frac{2 \\left(3 - c\\right)^{3}}{81} - \\frac{\\left(27 - 9 c\\right) \\left(- b - 3 c + 3\\right)}{81} + \\frac{\\sqrt{- 4 \\left(3 b + 9 c + \\left(3 - c\\right)^{2} - 9\\right)^{3} + \\left(- 27 a - 81 b - 81 c + 2 \\left(3 - c\\right)^{3} - \\left(27 - 9 c\\right) \\left(- b - 3 c + 3\\right) + 27\\right)^{2}}}{81} + 0.333333333333333\\right)^{0.333333333333333}} - 1.14471424255333 \\left(-0.5 - 0.003 \\sqrt{3}\\right) \\left(- \\frac{a}{3} - b - c + \\frac{2 \\left(3 - c\\right)^{3}}{81} - \\frac{\\left(27 - 9 c\\right) \\left(- b - 3 c + 3\\right)}{81} + \\frac{\\sqrt{- 4 \\left(3 b + 9 c + \\left(3 - c\\right)^{2} - 9\\right)^{3} + \\left(- 27 a - 81 b - 81 c + 2 \\left(3 - c\\right)^{3} - \\left(27 - 9 c\\right) \\left(- b - 3 c + 3\\right) + 27\\right)^{2}}}{81} + 0.333333333333333\\right)^{0.333333333333333} - 1$"
      ],
      "text/plain": [
       "c/3 - 0.291193488245433*(3*b + 9*c + (3 - c)**2 - 9)/((-1.5 - 0.009*sqrt(3))*(-a/3 - b - c + 2*(3 - c)**3/81 - (27 - 9*c)*(-b - 3*c + 3)/81 + sqrt(-4*(3*b + 9*c + (3 - c)**2 - 9)**3 + (-27*a - 81*b - 81*c + 2*(3 - c)**3 - (27 - 9*c)*(-b - 3*c + 3) + 27)**2)/81 + 0.333333333333333)**0.333333333333333) - 1.14471424255333*(-0.5 - 0.003*sqrt(3))*(-a/3 - b - c + 2*(3 - c)**3/81 - (27 - 9*c)*(-b - 3*c + 3)/81 + sqrt(-4*(3*b + 9*c + (3 - c)**2 - 9)**3 + (-27*a - 81*b - 81*c + 2*(3 - c)**3 - (27 - 9*c)*(-b - 3*c + 3) + 27)**2)/81 + 0.333333333333333)**0.333333333333333 - 1"
      ]
     },
     "execution_count": 31,
     "metadata": {},
     "output_type": "execute_result"
    }
   ],
   "source": [
    "h3"
   ]
  },
  {
   "cell_type": "code",
   "execution_count": null,
   "id": "c835f004",
   "metadata": {},
   "outputs": [],
   "source": []
  }
 ],
 "metadata": {
  "kernelspec": {
   "display_name": "Python 3 (ipykernel)",
   "language": "python",
   "name": "python3"
  },
  "language_info": {
   "codemirror_mode": {
    "name": "ipython",
    "version": 3
   },
   "file_extension": ".py",
   "mimetype": "text/x-python",
   "name": "python",
   "nbconvert_exporter": "python",
   "pygments_lexer": "ipython3",
   "version": "3.8.5"
  }
 },
 "nbformat": 4,
 "nbformat_minor": 5
}

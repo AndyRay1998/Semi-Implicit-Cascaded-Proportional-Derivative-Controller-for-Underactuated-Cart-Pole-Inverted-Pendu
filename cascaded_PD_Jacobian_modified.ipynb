{
 "cells": [
  {
   "cell_type": "code",
   "execution_count": 1,
   "id": "7cec443e",
   "metadata": {},
   "outputs": [],
   "source": [
    "import numpy as np\n",
    "import matplotlib.pyplot as plt\n",
    "import sympy"
   ]
  },
  {
   "cell_type": "markdown",
   "id": "72374fe4",
   "metadata": {},
   "source": [
    "# linear"
   ]
  },
  {
   "cell_type": "code",
   "execution_count": 2,
   "id": "156325e0",
   "metadata": {},
   "outputs": [
    {
     "data": {
      "text/latex": [
       "$\\displaystyle \\left[\\begin{matrix}0 & 1 & 0 & 0\\\\24.5 & -4.16666666666667 & 150.0 & 197.95\\\\-7.0148115942029 & -1.33700483091787 & 70.3973913043479 & 92.466308115942\\\\0 & 0 & -60.0 & -79.18\\end{matrix}\\right]$"
      ],
      "text/plain": [
       "Matrix([\n",
       "[               0,                 1,                0,               0],\n",
       "[            24.5, -4.16666666666667,            150.0,          197.95],\n",
       "[-7.0148115942029, -1.33700483091787, 70.3973913043479, 92.466308115942],\n",
       "[               0,                 0,            -60.0,          -79.18]])"
      ]
     },
     "execution_count": 2,
     "metadata": {},
     "output_type": "execute_result"
    }
   ],
   "source": [
    "M = 0.5\n",
    "m = 0.2\n",
    "F0 = 0.1\n",
    "F1 = 0.1\n",
    "I = 0.006\n",
    "g = 9.8\n",
    "l = 0.3\n",
    "dt = 0.01\n",
    "\n",
    "# M,m,F0,F1,I,g,l,dt = sympy.symbols(\"M m F0 F1 J g l dt\")\n",
    "e1,e2,e3,e4 = sympy.symbols(\"e1 e2 e3 e4\")\n",
    "\n",
    "\n",
    "p = I*(M+m)+M*m*l**2 # denominator for the A and B matrices\n",
    "A = (M+m)*m*g*l/p\n",
    "B = -F1*(M+m)/p\n",
    "C = F0*m*l/p\n",
    "D = -m*l/p\n",
    "E = -m*m*g*l*l/p\n",
    "F = F1*m*l/p\n",
    "G = -F0*(I+m*l*l)/p\n",
    "H = (I+m*l*l)/p\n",
    "\n",
    "# p,A,B,C,D,E,F,G,H,dt = sympy.symbols(\"p A B C D E F G H dt\")\n",
    "\n",
    "\n",
    "kp1 = 240.00\n",
    "kd1 = 34.10\n",
    "kp2 = 60.00\n",
    "kd2 = 79.18\n",
    "\n",
    "# kp1,kd1,kp2,kd2 = sympy.symbols(\"kp1 kd1 kp2 kd2\")\n",
    "x_d_r = ( kp1*e1+kd1*e2+A*e1+B*e2-E*D/H*e1-F*D/H*e2-G*D/H*e4-D/H*kd2*e4-D/H*kp2*e3) / C\n",
    "# u = E/H*e1 +F/H*e2+G/H*e4 +(kp2*dt)*x_d_r/H +kd2/H*e4\n",
    "u = E/H*e1 +F/H*e2+G/H*e4 +kp2*e3/H +kd2/H*e4\n",
    "\n",
    "e2_d = A*e1+B*e2+C*e4-D*u\n",
    "e4_d = -kp2*e3 -kd2*e4\n",
    "x_d_r_d = ( kp1*e2+kd1*e2_d+A*e2+B*e2_d-E*D/H*e2-F*D/H*e2_d-G*D/H*e4_d-D/H*kd2*e4_d-D/H*kp2*e4) / (C + D/H*kp2*dt)\n",
    "e3_d = x_d_r_d * dt + e4\n",
    "\n",
    "\n",
    "j21 = sympy.diff(e2_d,e1)\n",
    "j22 = sympy.diff(e2_d,e2)\n",
    "j23 = sympy.diff(e2_d,e3)\n",
    "j24 = sympy.diff(e2_d,e4)\n",
    "\n",
    "j31 = sympy.diff(e3_d,e1)\n",
    "j32 = sympy.diff(e3_d,e2)\n",
    "j33 = sympy.diff(e3_d,e3)\n",
    "j34 = sympy.diff(e3_d,e4)\n",
    "\n",
    "JM = sympy.Matrix([[0, 1, 0, 0],\n",
    "              [j21,j22,j23,j24],\n",
    "              [j31,j32,j33,j34],\n",
    "              [0, 0, -kp2, -kd2]])\n",
    "JM"
   ]
  },
  {
   "cell_type": "code",
   "execution_count": null,
   "id": "db186075",
   "metadata": {},
   "outputs": [],
   "source": [
    "JM.eigenvects()"
   ]
  },
  {
   "cell_type": "markdown",
   "id": "8e189471",
   "metadata": {},
   "source": [
    "# nonlinear "
   ]
  },
  {
   "cell_type": "code",
   "execution_count": 6,
   "id": "1ea7fef6",
   "metadata": {},
   "outputs": [],
   "source": [
    "import sympy\n",
    "e1, e2, e3, e4 = sympy.symbols(\"e1 e2 e3 e4\")\n",
    "# M,m,F0,F1,J,g,l,dt = sympy.symbols(\"M m F0 F1 J g l dt\")\n",
    "\n",
    "M = .5\n",
    "m = 0.2\n",
    "F0 = 0.1\n",
    "F1 = 0.1\n",
    "J = 0.006\n",
    "g = 9.8\n",
    "l = 0.3\n",
    "dt = 0.01\n",
    "\n",
    "kp1 = 240.00\n",
    "kd1 = 34.10\n",
    "kp2 = 60.00\n",
    "kd2 = 79.18\n",
    "\n",
    "p = (M+m)*(J+m*l**2) - m**2*l**2*sympy.cos(e1)**2\n",
    "p_d = 2*m*m*l*l*sympy.cos(e1)*sympy.sin(e1)*e2\n",
    "\n",
    "A = p*(kp1*e1+kd1*e2) - F1*(M+m)*e2 + (M+m)*m*g*l*sympy.sin(e1)\n",
    "A += m*l*sympy.cos(e1)/(J+m*l*l) * (F1*m*l*e2*sympy.cos(e1) -F0*(J+m*l*l)*e4 -m*m*g*l*l*sympy.sin(e1)*sympy.cos(e1))\n",
    "A += m*l*sympy.cos(e1)*(p/(J+m*l*l)*(kd2*e4+kp2*e3))\n",
    "B = F0*m*l*sympy.cos(e1) # -p*m*l*sympy.cos(e1)*kp2*dt/(J+m*l*l)\n",
    "\n",
    "u = 1/(J+m*l*l) * (F1*m*l*e2*sympy.cos(e1) +(J+m*l*l)*m*l*e2*e2*sympy.sin(e1)\\\n",
    "                   -F0*(J+m*l*l)*e4 \\\n",
    "                   -m*m*g*l*l*sympy.sin(e1)*sympy.cos(e1)\\\n",
    "                   +p*kp2*e3 \\\n",
    "                   +p*kd2*e4 )\n",
    "\n",
    "e1_d = e2\n",
    "e2_d = -F1/p*(M+m)*e2 -m*m*l*l/p*e2*e2*sympy.sin(e1)*sympy.cos(e1)+F0*m*l/p*sympy.cos(e1)*e4 +(M+m)*m*g*l/p*sympy.sin(e1) +m*l/p*sympy.cos(e1)*u\n",
    "e4_d = -kp2*e3-kd2*e4\n",
    "\n",
    "A_d = p_d*kp1*e1+p*kp1*e2 +p_d*kd1*e2+p*kd1*e2_d -F1*(M+m)*e2_d+(M+m)*m*g*l*sympy.cos(e1)*e2\n",
    "A_d += m*l/(J+m*l*l)*( F1*m*l*(e2_d*sympy.cos(e1)*sympy.cos(e1)-e2*2*sympy.cos(e1)*sympy.sin(e1)*e2)\\\n",
    "                      - F0*(J+m*l*l)*(e4_d*sympy.cos(e1)-e4*sympy.sin(e1)*e2)\\\n",
    "                      -m*m*g*l*l*( -sympy.sin(e1)*e2*sympy.sin(2*e1)/2 +sympy.cos(e1)*sympy.cos(2*e1)*e2))\n",
    "\n",
    "A_d += m*l*kd2/(J+m*l*l)*((p_d*e4+p*e4_d)*sympy.cos(e1)+p*e4*(-sympy.sin(e1))*e2)\n",
    "A_d += m*l*kp2/(J+m*l*l)*((p_d*e3+p*e4)*sympy.cos(e1)+p*e3*(-sympy.sin(e1))*e2)\n",
    "\n",
    "B_d = -F0*m*l*sympy.sin(e1)*e2 # - m*l*kp2*dt/(J+m*l*l)*(p_d*sympy.cos(e1)-p*sympy.sin(e1)*e2)\n",
    "\n",
    "p3 = p*m*l*sympy.cos(e1)*kp2*dt/(J+m*l*l)\n",
    "x3_d = (A_d*B-B_d*A)/(B*B-p3*B) * dt + e4\n",
    "\n",
    "#x_d_r = p*(kp1*e1+kd1*e2) - F1*(M+m)*e2 + m*m*l*l*e2*sympy.sin(e1)*sympy.cos(e1) - (M+m)*m*g*l*sympy.sin(e1) + F0*m*l*sympy.cos(e1)*e4\n",
    "#x_d_r += m*l*sympy.cos(e1)/(J+m*l*l) * (F1*m*l*e2*sympy.cos(e1) +(J+m*l*l)*m*l*e2**2*sympy.sin(e1) -F0*(J+m*l*l)*e4 -m*m*g*l*l*sympy.sin(e1)*sympy.cos(e1))\n",
    "#x_d_r += m*l*sympy.cos(e1)*(p/(J+m*l*l)*kd2*e4)\n",
    "#x_d_r /= (F0*m*l*sympy.cos(e1)-p*m*l*sympy.cos(e1)*kp2*dt/(J+m*l*l))\n",
    "\n",
    "j21 = sympy.diff(e2_d, e1)\n",
    "j22 = sympy.diff(e2_d, e2)\n",
    "j23 = sympy.diff(e2_d, e3)\n",
    "j24 = sympy.diff(e2_d, e4)\n",
    "\n",
    "j31 = sympy.diff(x3_d, e1)\n",
    "j32 = sympy.diff(x3_d, e2)\n",
    "j33 = sympy.diff(x3_d, e3)\n",
    "j34 = sympy.diff(x3_d, e4)\n",
    "\n",
    "JM = sympy.Matrix([[0,1,0,0],\n",
    "                   [j21,j22,j23,j24],\n",
    "                   [j31,j32,j33,j34],\n",
    "                   [0,0,-kp2,-kd2]])"
   ]
  },
  {
   "cell_type": "code",
   "execution_count": 7,
   "id": "dc005015",
   "metadata": {},
   "outputs": [
    {
     "data": {
      "text/latex": [
       "$\\displaystyle \\left[\\begin{matrix}0 & 1.0 & 0 & 0\\\\24.5 & -4.16666666666667 & 150.0 & 197.95\\\\-7.0148115942029 & -1.33700483091788 & 70.3973913043478 & 92.4663081159421\\\\0 & 0 & -60.0 & -79.18\\end{matrix}\\right]$"
      ],
      "text/plain": [
       "Matrix([\n",
       "[               0,               1.0,                0,                0],\n",
       "[            24.5, -4.16666666666667,            150.0,           197.95],\n",
       "[-7.0148115942029, -1.33700483091788, 70.3973913043478, 92.4663081159421],\n",
       "[               0,                 0,            -60.0,           -79.18]])"
      ]
     },
     "execution_count": 7,
     "metadata": {},
     "output_type": "execute_result"
    }
   ],
   "source": [
    "JM.evalf(subs={'e1':0, 'e2':0, 'e3':0, 'e4':0})"
   ]
  },
  {
   "cell_type": "code",
   "execution_count": 8,
   "id": "8bb8d861",
   "metadata": {},
   "outputs": [
    {
     "data": {
      "text/plain": [
       "[(-4.05159651158116 - 11.2427101022432*I,\n",
       "  1,\n",
       "  [Matrix([\n",
       "   [-0.0490905319207521 + 0.0470369605093297*I],\n",
       "   [   0.727717938978839 + 0.361335834034951*I],\n",
       "   [   0.341702265140175 + 0.299480216790605*I],\n",
       "   [  -0.231909518015983 - 0.273879165974994*I]])]),\n",
       " (-4.05159651158116 + 11.2427101022432*I,\n",
       "  1,\n",
       "  [Matrix([\n",
       "   [0.035510186691786 + 0.0626348784685531*I],\n",
       "   [-0.848058729437214 + 0.145459479545785*I],\n",
       "   [-0.437652186803778 + 0.199996757065235*I],\n",
       "   [ 0.318488928703933 - 0.207384735954201*I]])]),\n",
       " (-3.60450755972204 + 3.32070499780566e-62*I,\n",
       "  1,\n",
       "  [Matrix([\n",
       "   [-0.100334338172525 - 0.135094777833464*I],\n",
       "   [ 0.361655880442574 + 0.486950147979691*I],\n",
       "   [-0.372023319635298 - 0.500909345996572*I],\n",
       "   [ 0.295352348458158 + 0.397676016250167*I]])]),\n",
       " (-1.24157477943445 - 2.34754303418546e-62*I,\n",
       "  1,\n",
       "  [Matrix([\n",
       "   [ 0.0801252007024859 + 0.0290490728069774*I],\n",
       "   [-0.0994814283893299 - 0.0360665961630983*I],\n",
       "   [   0.943306673170374 + 0.341992082241158*I],\n",
       "   [   -0.72619378990593 - 0.263278670006474*I]])])]"
      ]
     },
     "execution_count": 8,
     "metadata": {},
     "output_type": "execute_result"
    }
   ],
   "source": [
    "JM.evalf(subs={'e1':0, 'e2':0, 'e3':0, 'e4':0}).eigenvects()"
   ]
  },
  {
   "cell_type": "markdown",
   "id": "1ab56552",
   "metadata": {},
   "source": [
    "# controllability matrix"
   ]
  },
  {
   "cell_type": "code",
   "execution_count": 3,
   "id": "3a69094f",
   "metadata": {},
   "outputs": [],
   "source": [
    "Y = sympy.Matrix([[0, 1, 0, 0],\n",
    "              [A, B, 0, C],\n",
    "              [0, 0, 0, 1],\n",
    "              [E, F, 0, G]])\n",
    "Z = sympy.Matrix([[0],\n",
    "              [D],\n",
    "              [0],\n",
    "              [H]])\n",
    "controllability = sympy.Matrix([Z,Y*Z,Y*Y*Z,Y*Y*Y*Z]).reshape(4,4)"
   ]
  },
  {
   "cell_type": "code",
   "execution_count": 4,
   "id": "9b6dc3ed",
   "metadata": {},
   "outputs": [
    {
     "data": {
      "text/plain": [
       "4"
      ]
     },
     "execution_count": 4,
     "metadata": {},
     "output_type": "execute_result"
    }
   ],
   "source": [
    "controllability.rank() # full-rank means controllable"
   ]
  },
  {
   "cell_type": "code",
   "execution_count": null,
   "id": "a5b0ac16",
   "metadata": {},
   "outputs": [],
   "source": []
  }
 ],
 "metadata": {
  "kernelspec": {
   "display_name": "Python 3 (ipykernel)",
   "language": "python",
   "name": "python3"
  },
  "language_info": {
   "codemirror_mode": {
    "name": "ipython",
    "version": 3
   },
   "file_extension": ".py",
   "mimetype": "text/x-python",
   "name": "python",
   "nbconvert_exporter": "python",
   "pygments_lexer": "ipython3",
   "version": "3.8.5"
  }
 },
 "nbformat": 4,
 "nbformat_minor": 5
}

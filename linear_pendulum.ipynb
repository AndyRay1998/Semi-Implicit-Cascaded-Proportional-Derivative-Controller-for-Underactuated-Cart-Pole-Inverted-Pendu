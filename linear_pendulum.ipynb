{
 "cells": [
  {
   "cell_type": "code",
   "execution_count": 1,
   "id": "723494fd",
   "metadata": {},
   "outputs": [],
   "source": [
    "import numpy as np\n",
    "import matplotlib.pyplot as plt\n",
    "import sympy\n",
    "\n",
    "import gym\n",
    "from gym import spaces\n",
    "from gym.utils import seeding"
   ]
  },
  {
   "cell_type": "code",
   "execution_count": 2,
   "id": "6fa13e5d",
   "metadata": {},
   "outputs": [],
   "source": [
    "class PID:\n",
    "    def __init__(self, p=5, i=0.1, d=1):\n",
    "        self.p = p\n",
    "        self.i = i\n",
    "        self.d = d\n",
    "        self.i_value = 0\n",
    "\n",
    "    def control(self, e, e_d):\n",
    "        '''\n",
    "        This function calculates control output\n",
    "        @params:\n",
    "            e: angular error\n",
    "            e_d: angular velocity error\n",
    "        '''\n",
    "        self.i_value += e\n",
    "        self.i_value = np.clip(self.i_value, -10000, 10000)\n",
    "        return self.p * e + self.i * self.i_value + self.d * e_d"
   ]
  },
  {
   "cell_type": "code",
   "execution_count": 218,
   "id": "9cb0828a",
   "metadata": {},
   "outputs": [],
   "source": [
    "class Pendulum_PID_Env(gym.Env):\n",
    "    metadata = {\"render.modes\": [\"human\", \"rgb_array\"], \"video.frames_per_second\": 30}\n",
    "    '''\n",
    "    only PID integrated environment\n",
    "    '''\n",
    "    def __init__(self):\n",
    "        self.M = .5\n",
    "        self.m = 0.2\n",
    "        self.F0 = 0.1\n",
    "        self.F1 = 0.1\n",
    "        self.I = 0.006\n",
    "        self.g = 9.8\n",
    "        self.l = 0.3\n",
    "        self.dt = 0.01\n",
    "\n",
    "        high = np.array([np.pi/3, 10, np.pi/3, 10], dtype=np.float32)\n",
    "        self.action_space = spaces.Box(\n",
    "            low=np.array([-30], dtype=np.float32), high=np.array([30], dtype=np.float32), shape=(1,), dtype=np.float32\n",
    "        )\n",
    "        self.observation_space = spaces.Box(low=-high, high=high, dtype=np.float32)\n",
    "\n",
    "        self.seed(0)\n",
    "\n",
    "    def seed(self, seed=None):\n",
    "        self.np_random, seed = seeding.np_random(seed)\n",
    "        return [seed]\n",
    "\n",
    "    def normalize(self, x):\n",
    "        return ((x + np.pi) % (2 * np.pi)) - np.pi\n",
    "\n",
    "\n",
    "    def step(self, PID1_param=[52.49,0,7.485], PID2_param=[129.7,0,11.75], target=[0,0]):\n",
    "        '''\n",
    "        @param:\n",
    "            PID1_param, PID2_param: baseline parameters for 2 PIDs\n",
    "        '''\n",
    "        # initialization\n",
    "        x, x_d, phi, phi_d = self.state  # retrieve info of the actuator link\n",
    "\n",
    "        M = self.M\n",
    "        m = self.m\n",
    "        F0 = self.F0\n",
    "        F1 = self.F1\n",
    "        I = self.I\n",
    "        g = self.g\n",
    "        l = self.l\n",
    "        kp1 = PID1_param[0]\n",
    "        kd1 = PID1_param[2]\n",
    "        kp2 = PID2_param[0]\n",
    "        kd2 = PID2_param[2]\n",
    "        \n",
    "        p = I*(M+m)+M*m*l**2 # denominator for the A and B matrices\n",
    "        A = (M+m)*m*g*l/p\n",
    "        B = -F1*(M+m)/p\n",
    "        C = F0*m*l/p\n",
    "        D = -m*l/p\n",
    "        E = -m*m*g*l*l/p\n",
    "        F = F1*m*l/p\n",
    "        G = -F0*(I+m*l*l)/p\n",
    "        H = (I+m*l*l)/p\n",
    "        \n",
    "        \n",
    "        e1 = target[0] - phi\n",
    "        e2 = target[1] - phi_d\n",
    "\n",
    "        x_d_r = ( kp1*e1+kd1*e2-A*phi-B*phi_d+E*D/H*phi+F*D/H*phi_d+G*D/H*x_d+D/H*kd2*x_d) / (C + D/H*kp2*self.dt)\n",
    "        u = -E/H*phi -F/H*phi_d-G/H*x_d +(kp2*self.dt)*x_d_r/H -kd2/H*x_d\n",
    "\n",
    "\n",
    "        # acceleration calculation\n",
    "        \n",
    "        phi_dd = A * phi + B * phi_d + C * x_d + D * u\n",
    "        x_dd = E * phi + F * phi_d + G * x_d + H * u\n",
    "\n",
    "        # semi-implicit euler\n",
    "        for _ in range(1):\n",
    "            x += self.dt * x_d / 1\n",
    "            x_d += self.dt * x_dd / 1\n",
    "            x = np.clip(x, -100, 100)\n",
    "            x_d = np.clip(x_d, -100, 100)\n",
    "\n",
    "            phi += self.dt * phi_d / 1\n",
    "            phi_d += self.dt * phi_dd / 1\n",
    "            phi_d = np.clip(phi_d, -100, 100)\n",
    "            phi = self.normalize(phi)\n",
    "        \n",
    "            \n",
    "            \n",
    "        ############## cost ####################\n",
    "        costs = self.normalize(phi) ** 2 + 0.1 * phi_d**2 + 0.00 * x**2 # + 0.001 * (u**2)\n",
    "\n",
    "        # Output\n",
    "        self.state = np.array([float(x), float(x_d), float(phi), float(phi_d)])\n",
    "\n",
    "        return self._get_obs(), -float(costs), False, {'x_d_r':x_d_r}\n",
    "\n",
    "    def reset(self):\n",
    "        # always reset all to 0\n",
    "        high = np.array([np.pi/2, 10, np.pi/2, 10], dtype=np.float32)\n",
    "        self.state = self.np_random.uniform(low=-high, high=high)\n",
    "        self.state = np.array([0, 0, 0.5, 0], dtype=np.float32)\n",
    "        return self.state\n",
    "\n",
    "    def _get_obs(self):\n",
    "        # we can only observe the angle of the actuator\n",
    "        x, x_d, phi, phi_d = self.state\n",
    "        return np.array([x, x_d, phi, phi_d], dtype=np.float32)"
   ]
  },
  {
   "cell_type": "code",
   "execution_count": 726,
   "id": "87e75a3c",
   "metadata": {},
   "outputs": [],
   "source": [
    "M = 0.5\n",
    "m = 0.2\n",
    "F0 = 0.1\n",
    "F1 = 0.1\n",
    "I = 0.006\n",
    "g = 9.8\n",
    "l = 0.3\n",
    "dt = 0.01\n",
    "\n",
    "# M,m,F0,F1,J,g,l,dt = sympy.symbols(\"M m F0 F1 J g l dt\")\n",
    "e1,e2,e3,e4 = sympy.symbols(\"e1 e2 e3 e4\")\n",
    "\n",
    "\n",
    "p = I*(M+m)+M*m*l**2 # denominator for the A and B matrices\n",
    "A = (M+m)*m*g*l/p\n",
    "B = -F1*(M+m)/p\n",
    "C = F0*m*l/p\n",
    "D = -m*l/p\n",
    "E = -m*m*g*l*l/p\n",
    "F = F1*m*l/p\n",
    "G = -F0*(I+m*l*l)/p\n",
    "H = (I+m*l*l)/p\n",
    "\n",
    "#p,A,B,C,D,E,F,G,H = sympy.symbols(\"p A B C D E F G H\")\n",
    "\n",
    "\n",
    "kp1 = 133.8\n",
    "kd1 = 46.67\n",
    "kp2 = 82.17\n",
    "kd2 = 80.336\n",
    "\n",
    "#kp1,kd1,kp2,kd2 = sympy.symbols(\"kp1 kd1 kp2 kd2\")\n",
    "\n",
    "x_d_r = ( kp1*e1+kd1*e2+A*e1+B*e2-E*D/H*e1-F*D/H*e2-G*D/H*e4-D/H*kd2*e4) / (C + D/H*kp2*dt)\n",
    "# u = E/H*e1 +F/H*e2+G/H*e4 +(kp2*dt)*x_d_r/H +kd2/H*e4\n",
    "u = E/H*e1 +F/H*e2+G/H*e4 +kp2*e3/H +kd2/H*e4\n",
    "\n",
    "e2_d = A*e1+B*e2+C*e4-D*u\n",
    "e4_d = -kp2*e3 -kd2*e4\n",
    "x_d_r_d = ( kp1*e2+kd1*e2_d+A*e2+B*e2_d-E*D/H*e2-F*D/H*e2_d-G*D/H*e4_d-D/H*kd2*e4_d) / (C + D/H*kp2*dt)\n",
    "e3_d = x_d_r_d * dt\n",
    "\n",
    "\n",
    "j21 = sympy.diff(e2_d,e1)\n",
    "j22 = sympy.diff(e2_d,e2)\n",
    "j23 = sympy.diff(e2_d,e3)\n",
    "j24 = sympy.diff(e2_d,e4)\n",
    "\n",
    "j31 = sympy.diff(e3_d,e1)\n",
    "j32 = sympy.diff(e3_d,e2)\n",
    "j33 = sympy.diff(e3_d,e3)\n",
    "j34 = sympy.diff(e3_d,e4)\n"
   ]
  },
  {
   "cell_type": "code",
   "execution_count": 727,
   "id": "b9dcb27e",
   "metadata": {},
   "outputs": [],
   "source": [
    "JM = np.array([[0, 1, 0, 0],\n",
    "              [j21,j22,j23,j24],\n",
    "              [j31,j32,j33,j34],\n",
    "              [0, 0, -kp2, -kd2]])"
   ]
  },
  {
   "cell_type": "code",
   "execution_count": 728,
   "id": "13477f5f",
   "metadata": {},
   "outputs": [
    {
     "data": {
      "text/plain": [
       "array([[0, 1, 0, 0],\n",
       "       [24.5000000000000, -4.16666666666667, 205.425000000000,\n",
       "        200.840000000000],\n",
       "       [-6.50952495962796, 0.117504337132962, 48.3490877860969,\n",
       "        47.2699563877799],\n",
       "       [0, 0, -82.17, -80.336]], dtype=object)"
      ]
     },
     "execution_count": 728,
     "metadata": {},
     "output_type": "execute_result"
    }
   ],
   "source": [
    "JM"
   ]
  },
  {
   "cell_type": "code",
   "execution_count": 729,
   "id": "b6c1ce7e",
   "metadata": {},
   "outputs": [
    {
     "name": "stderr",
     "output_type": "stream",
     "text": [
      "C:\\Users\\Lenovo\\AppData\\Local\\Temp/ipykernel_26612/1419705488.py:1: DeprecationWarning: `np.float` is a deprecated alias for the builtin `float`. To silence this warning, use `float` by itself. Doing this will not modify any behavior and is safe. If you specifically wanted the numpy scalar type, use `np.float64` here.\n",
      "Deprecated in NumPy 1.20; for more details and guidance: https://numpy.org/devdocs/release/1.20.0-notes.html#deprecations\n",
      "  np.linalg.eig(np.array(JM, dtype=np.float))\n"
     ]
    },
    {
     "data": {
      "text/plain": [
       "(array([-3.41497185e+01+0.j        , -1.00193017e+00+3.89940274j,\n",
       "        -1.00193017e+00-3.89940274j,  3.36572953e-13+0.j        ]),\n",
       " array([[ 2.72414419e-02+0.j        , -5.88466646e-02+0.12316427j,\n",
       "         -5.88466646e-02-0.12316427j,  1.50243626e-14+0.j        ],\n",
       "        [-9.30287573e-01+0.j        , -4.21306841e-01-0.35286884j,\n",
       "         -4.21306841e-01+0.35286884j, -3.59421868e-14+0.j        ],\n",
       "        [-1.79245212e-01+0.j        , -5.72161622e-01-0.0281227j ,\n",
       "         -5.72161622e-01+0.0281227j , -6.99082041e-01+0.j        ],\n",
       "        [ 3.18895106e-01+0.j        ,  5.92614504e-01+0.j        ,\n",
       "          5.92614504e-01-0.j        ,  7.15041467e-01+0.j        ]]))"
      ]
     },
     "execution_count": 729,
     "metadata": {},
     "output_type": "execute_result"
    }
   ],
   "source": [
    "np.linalg.eig(np.array(JM, dtype=np.float))"
   ]
  },
  {
   "cell_type": "code",
   "execution_count": null,
   "id": "9d3ed2d1",
   "metadata": {},
   "outputs": [],
   "source": []
  },
  {
   "cell_type": "code",
   "execution_count": 585,
   "id": "aa975e64",
   "metadata": {},
   "outputs": [],
   "source": [
    "phi_l = []\n",
    "x_l = []\n",
    "x_d_l = []\n",
    "x_d_r_l = []\n",
    "\n",
    "def episode_run(x1, x2, x3, x4):\n",
    "    env = Pendulum_PID_Env()\n",
    "    reward_episode = 0\n",
    "    \n",
    "\n",
    "    # Number of steps you run the agent for \n",
    "    num_steps = 500\n",
    "    obs = env.reset()\n",
    "\n",
    "\n",
    "    ################## simulation\n",
    "    for step in range(num_steps):\n",
    "\n",
    "        # apply the action\n",
    "        obs, reward, done, info = env.step([x1, 0, x2], [x3, 0, x4])\n",
    "\n",
    "        phi_l.append(obs[2])\n",
    "        x_l.append(obs[0])\n",
    "        x_d_r_l.append(info['x_d_r'])\n",
    "        x_d_l.append(obs[1])\n",
    "        \n",
    "        reward_episode += reward\n",
    "        \n",
    "        \n",
    "        # If the epsiode is up, then start another one\n",
    "        if done:\n",
    "            env.reset()\n",
    "\n",
    "    # Close the env\n",
    "    env.close()\n",
    "    return reward_episode"
   ]
  },
  {
   "cell_type": "code",
   "execution_count": 602,
   "id": "43271c79",
   "metadata": {},
   "outputs": [
    {
     "data": {
      "text/plain": [
       "-39.970909935274605"
      ]
     },
     "execution_count": 602,
     "metadata": {},
     "output_type": "execute_result"
    }
   ],
   "source": [
    "episode_run(133.8,46.67,82.17,80.336)"
   ]
  },
  {
   "cell_type": "code",
   "execution_count": 603,
   "id": "2654d23a",
   "metadata": {},
   "outputs": [
    {
     "data": {
      "text/plain": [
       "[<matplotlib.lines.Line2D at 0x274a089d850>]"
      ]
     },
     "execution_count": 603,
     "metadata": {},
     "output_type": "execute_result"
    },
    {
     "data": {
      "image/png": "[encoded data removed]",
      "text/plain": [
       "<Figure size 432x288 with 1 Axes>"
      ]
     },
     "metadata": {
      "needs_background": "light"
     },
     "output_type": "display_data"
    }
   ],
   "source": [
    "plt.plot(phi_l)"
   ]
  },
  {
   "cell_type": "code",
   "execution_count": 604,
   "id": "4bf250b0",
   "metadata": {},
   "outputs": [
    {
     "data": {
      "text/plain": [
       "[<matplotlib.lines.Line2D at 0x274a08ebc70>]"
      ]
     },
     "execution_count": 604,
     "metadata": {},
     "output_type": "execute_result"
    },
    {
     "data": {
      "image/png": "[encoded data removed]",
      "text/plain": [
       "<Figure size 432x288 with 1 Axes>"
      ]
     },
     "metadata": {
      "needs_background": "light"
     },
     "output_type": "display_data"
    }
   ],
   "source": [
    "plt.plot(x_l)"
   ]
  },
  {
   "cell_type": "code",
   "execution_count": 590,
   "id": "c2d68cbb",
   "metadata": {},
   "outputs": [
    {
     "data": {
      "text/plain": [
       "[<matplotlib.lines.Line2D at 0x274a076e0d0>]"
      ]
     },
     "execution_count": 590,
     "metadata": {},
     "output_type": "execute_result"
    },
    {
     "data": {
      "image/png": "[encoded data removed]",
      "text/plain": [
       "<Figure size 432x288 with 1 Axes>"
      ]
     },
     "metadata": {
      "needs_background": "light"
     },
     "output_type": "display_data"
    }
   ],
   "source": [
    "plt.plot(x_d_r_l)\n",
    "plt.plot(x_d_l)"
   ]
  },
  {
   "cell_type": "code",
   "execution_count": 433,
   "id": "842314a8",
   "metadata": {
    "collapsed": true
   },
   "outputs": [
    {
     "name": "stdout",
     "output_type": "stream",
     "text": [
      "|   iter    |  target   |    x1     |    x2     |    x3     |    x4     |\n",
      "-------------------------------------------------------------------------\n",
      "| \u001b[95m 3       \u001b[0m | \u001b[95m-25.15   \u001b[0m | \u001b[95m 79.35   \u001b[0m | \u001b[95m 26.94   \u001b[0m | \u001b[95m 83.84   \u001b[0m | \u001b[95m 34.26   \u001b[0m |\n",
      "| \u001b[95m 5       \u001b[0m | \u001b[95m-18.55   \u001b[0m | \u001b[95m 83.46   \u001b[0m | \u001b[95m 27.93   \u001b[0m | \u001b[95m 28.08   \u001b[0m | \u001b[95m 9.905   \u001b[0m |\n",
      "| \u001b[95m 6       \u001b[0m | \u001b[95m-16.81   \u001b[0m | \u001b[95m 160.1   \u001b[0m | \u001b[95m 48.41   \u001b[0m | \u001b[95m 62.68   \u001b[0m | \u001b[95m 34.62   \u001b[0m |\n",
      "| \u001b[95m 9       \u001b[0m | \u001b[95m-14.09   \u001b[0m | \u001b[95m 191.6   \u001b[0m | \u001b[95m 26.66   \u001b[0m | \u001b[95m 138.4   \u001b[0m | \u001b[95m 15.78   \u001b[0m |\n"
     ]
    },
    {
     "ename": "KeyboardInterrupt",
     "evalue": "",
     "output_type": "error",
     "traceback": [
      "\u001b[1;31m---------------------------------------------------------------------------\u001b[0m",
      "\u001b[1;31mKeyboardInterrupt\u001b[0m                         Traceback (most recent call last)",
      "\u001b[1;32m~\\AppData\\Local\\Temp/ipykernel_26612/2411359687.py\u001b[0m in \u001b[0;36m<module>\u001b[1;34m\u001b[0m\n\u001b[0;32m     11\u001b[0m )\n\u001b[0;32m     12\u001b[0m \u001b[1;33m\u001b[0m\u001b[0m\n\u001b[1;32m---> 13\u001b[1;33m optimizer.maximize(\n\u001b[0m\u001b[0;32m     14\u001b[0m     \u001b[0minit_points\u001b[0m\u001b[1;33m=\u001b[0m\u001b[1;36m50\u001b[0m\u001b[1;33m,\u001b[0m\u001b[1;33m\u001b[0m\u001b[1;33m\u001b[0m\u001b[0m\n\u001b[0;32m     15\u001b[0m     \u001b[0mn_iter\u001b[0m\u001b[1;33m=\u001b[0m\u001b[1;36m100\u001b[0m\u001b[1;33m,\u001b[0m\u001b[1;33m\u001b[0m\u001b[1;33m\u001b[0m\u001b[0m\n",
      "\u001b[1;32mD:\\Anaconda3\\envs\\tf-cpu\\lib\\site-packages\\bayes_opt\\bayesian_optimization.py\u001b[0m in \u001b[0;36mmaximize\u001b[1;34m(self, init_points, n_iter, acq, kappa, kappa_decay, kappa_decay_delay, xi, **gp_params)\u001b[0m\n\u001b[0;32m    183\u001b[0m                 \u001b[0miteration\u001b[0m \u001b[1;33m+=\u001b[0m \u001b[1;36m1\u001b[0m\u001b[1;33m\u001b[0m\u001b[1;33m\u001b[0m\u001b[0m\n\u001b[0;32m    184\u001b[0m \u001b[1;33m\u001b[0m\u001b[0m\n\u001b[1;32m--> 185\u001b[1;33m             \u001b[0mself\u001b[0m\u001b[1;33m.\u001b[0m\u001b[0mprobe\u001b[0m\u001b[1;33m(\u001b[0m\u001b[0mx_probe\u001b[0m\u001b[1;33m,\u001b[0m \u001b[0mlazy\u001b[0m\u001b[1;33m=\u001b[0m\u001b[1;32mFalse\u001b[0m\u001b[1;33m)\u001b[0m\u001b[1;33m\u001b[0m\u001b[1;33m\u001b[0m\u001b[0m\n\u001b[0m\u001b[0;32m    186\u001b[0m \u001b[1;33m\u001b[0m\u001b[0m\n\u001b[0;32m    187\u001b[0m             \u001b[1;32mif\u001b[0m \u001b[0mself\u001b[0m\u001b[1;33m.\u001b[0m\u001b[0m_bounds_transformer\u001b[0m\u001b[1;33m:\u001b[0m\u001b[1;33m\u001b[0m\u001b[1;33m\u001b[0m\u001b[0m\n",
      "\u001b[1;32mD:\\Anaconda3\\envs\\tf-cpu\\lib\\site-packages\\bayes_opt\\bayesian_optimization.py\u001b[0m in \u001b[0;36mprobe\u001b[1;34m(self, params, lazy)\u001b[0m\n\u001b[0;32m    115\u001b[0m         \u001b[1;32melse\u001b[0m\u001b[1;33m:\u001b[0m\u001b[1;33m\u001b[0m\u001b[1;33m\u001b[0m\u001b[0m\n\u001b[0;32m    116\u001b[0m             \u001b[0mself\u001b[0m\u001b[1;33m.\u001b[0m\u001b[0m_space\u001b[0m\u001b[1;33m.\u001b[0m\u001b[0mprobe\u001b[0m\u001b[1;33m(\u001b[0m\u001b[0mparams\u001b[0m\u001b[1;33m)\u001b[0m\u001b[1;33m\u001b[0m\u001b[1;33m\u001b[0m\u001b[0m\n\u001b[1;32m--> 117\u001b[1;33m             \u001b[0mself\u001b[0m\u001b[1;33m.\u001b[0m\u001b[0mdispatch\u001b[0m\u001b[1;33m(\u001b[0m\u001b[0mEvents\u001b[0m\u001b[1;33m.\u001b[0m\u001b[0mOPTIMIZATION_STEP\u001b[0m\u001b[1;33m)\u001b[0m\u001b[1;33m\u001b[0m\u001b[1;33m\u001b[0m\u001b[0m\n\u001b[0m\u001b[0;32m    118\u001b[0m \u001b[1;33m\u001b[0m\u001b[0m\n\u001b[0;32m    119\u001b[0m     \u001b[1;32mdef\u001b[0m \u001b[0msuggest\u001b[0m\u001b[1;33m(\u001b[0m\u001b[0mself\u001b[0m\u001b[1;33m,\u001b[0m \u001b[0mutility_function\u001b[0m\u001b[1;33m)\u001b[0m\u001b[1;33m:\u001b[0m\u001b[1;33m\u001b[0m\u001b[1;33m\u001b[0m\u001b[0m\n",
      "\u001b[1;32mD:\\Anaconda3\\envs\\tf-cpu\\lib\\site-packages\\bayes_opt\\bayesian_optimization.py\u001b[0m in \u001b[0;36mdispatch\u001b[1;34m(self, event)\u001b[0m\n\u001b[0;32m     60\u001b[0m     \u001b[1;32mdef\u001b[0m \u001b[0mdispatch\u001b[0m\u001b[1;33m(\u001b[0m\u001b[0mself\u001b[0m\u001b[1;33m,\u001b[0m \u001b[0mevent\u001b[0m\u001b[1;33m)\u001b[0m\u001b[1;33m:\u001b[0m\u001b[1;33m\u001b[0m\u001b[1;33m\u001b[0m\u001b[0m\n\u001b[0;32m     61\u001b[0m         \u001b[1;32mfor\u001b[0m \u001b[0m_\u001b[0m\u001b[1;33m,\u001b[0m \u001b[0mcallback\u001b[0m \u001b[1;32min\u001b[0m \u001b[0mself\u001b[0m\u001b[1;33m.\u001b[0m\u001b[0mget_subscribers\u001b[0m\u001b[1;33m(\u001b[0m\u001b[0mevent\u001b[0m\u001b[1;33m)\u001b[0m\u001b[1;33m.\u001b[0m\u001b[0mitems\u001b[0m\u001b[1;33m(\u001b[0m\u001b[1;33m)\u001b[0m\u001b[1;33m:\u001b[0m\u001b[1;33m\u001b[0m\u001b[1;33m\u001b[0m\u001b[0m\n\u001b[1;32m---> 62\u001b[1;33m             \u001b[0mcallback\u001b[0m\u001b[1;33m(\u001b[0m\u001b[0mevent\u001b[0m\u001b[1;33m,\u001b[0m \u001b[0mself\u001b[0m\u001b[1;33m)\u001b[0m\u001b[1;33m\u001b[0m\u001b[1;33m\u001b[0m\u001b[0m\n\u001b[0m\u001b[0;32m     63\u001b[0m \u001b[1;33m\u001b[0m\u001b[0m\n\u001b[0;32m     64\u001b[0m \u001b[1;33m\u001b[0m\u001b[0m\n",
      "\u001b[1;32mD:\\Anaconda3\\envs\\tf-cpu\\lib\\site-packages\\bayes_opt\\logger.py\u001b[0m in \u001b[0;36mupdate\u001b[1;34m(self, event, instance)\u001b[0m\n\u001b[0;32m    100\u001b[0m \u001b[1;33m\u001b[0m\u001b[0m\n\u001b[0;32m    101\u001b[0m         \u001b[1;32mif\u001b[0m \u001b[0mself\u001b[0m\u001b[1;33m.\u001b[0m\u001b[0m_verbose\u001b[0m\u001b[1;33m:\u001b[0m\u001b[1;33m\u001b[0m\u001b[1;33m\u001b[0m\u001b[0m\n\u001b[1;32m--> 102\u001b[1;33m             \u001b[0mprint\u001b[0m\u001b[1;33m(\u001b[0m\u001b[0mline\u001b[0m\u001b[1;33m,\u001b[0m \u001b[0mend\u001b[0m\u001b[1;33m=\u001b[0m\u001b[1;34m\"\"\u001b[0m\u001b[1;33m)\u001b[0m\u001b[1;33m\u001b[0m\u001b[1;33m\u001b[0m\u001b[0m\n\u001b[0m\u001b[0;32m    103\u001b[0m         \u001b[0mself\u001b[0m\u001b[1;33m.\u001b[0m\u001b[0m_update_tracker\u001b[0m\u001b[1;33m(\u001b[0m\u001b[0mevent\u001b[0m\u001b[1;33m,\u001b[0m \u001b[0minstance\u001b[0m\u001b[1;33m)\u001b[0m\u001b[1;33m\u001b[0m\u001b[1;33m\u001b[0m\u001b[0m\n\u001b[0;32m    104\u001b[0m \u001b[1;33m\u001b[0m\u001b[0m\n",
      "\u001b[1;32mD:\\Anaconda3\\envs\\tf-cpu\\lib\\site-packages\\ipykernel\\iostream.py\u001b[0m in \u001b[0;36mwrite\u001b[1;34m(self, string)\u001b[0m\n\u001b[0;32m    517\u001b[0m             \u001b[0mis_child\u001b[0m \u001b[1;33m=\u001b[0m \u001b[1;33m(\u001b[0m\u001b[1;32mnot\u001b[0m \u001b[0mself\u001b[0m\u001b[1;33m.\u001b[0m\u001b[0m_is_master_process\u001b[0m\u001b[1;33m(\u001b[0m\u001b[1;33m)\u001b[0m\u001b[1;33m)\u001b[0m\u001b[1;33m\u001b[0m\u001b[1;33m\u001b[0m\u001b[0m\n\u001b[0;32m    518\u001b[0m             \u001b[1;31m# only touch the buffer in the IO thread to avoid races\u001b[0m\u001b[1;33m\u001b[0m\u001b[1;33m\u001b[0m\u001b[1;33m\u001b[0m\u001b[0m\n\u001b[1;32m--> 519\u001b[1;33m             \u001b[0mself\u001b[0m\u001b[1;33m.\u001b[0m\u001b[0mpub_thread\u001b[0m\u001b[1;33m.\u001b[0m\u001b[0mschedule\u001b[0m\u001b[1;33m(\u001b[0m\u001b[1;32mlambda\u001b[0m\u001b[1;33m:\u001b[0m \u001b[0mself\u001b[0m\u001b[1;33m.\u001b[0m\u001b[0m_buffer\u001b[0m\u001b[1;33m.\u001b[0m\u001b[0mwrite\u001b[0m\u001b[1;33m(\u001b[0m\u001b[0mstring\u001b[0m\u001b[1;33m)\u001b[0m\u001b[1;33m)\u001b[0m\u001b[1;33m\u001b[0m\u001b[1;33m\u001b[0m\u001b[0m\n\u001b[0m\u001b[0;32m    520\u001b[0m             \u001b[1;32mif\u001b[0m \u001b[0mis_child\u001b[0m\u001b[1;33m:\u001b[0m\u001b[1;33m\u001b[0m\u001b[1;33m\u001b[0m\u001b[0m\n\u001b[0;32m    521\u001b[0m                 \u001b[1;31m# mp.Pool cannot be trusted to flush promptly (or ever),\u001b[0m\u001b[1;33m\u001b[0m\u001b[1;33m\u001b[0m\u001b[1;33m\u001b[0m\u001b[0m\n",
      "\u001b[1;32mD:\\Anaconda3\\envs\\tf-cpu\\lib\\site-packages\\ipykernel\\iostream.py\u001b[0m in \u001b[0;36mschedule\u001b[1;34m(self, f)\u001b[0m\n\u001b[0;32m    212\u001b[0m             \u001b[0mself\u001b[0m\u001b[1;33m.\u001b[0m\u001b[0m_events\u001b[0m\u001b[1;33m.\u001b[0m\u001b[0mappend\u001b[0m\u001b[1;33m(\u001b[0m\u001b[0mf\u001b[0m\u001b[1;33m)\u001b[0m\u001b[1;33m\u001b[0m\u001b[1;33m\u001b[0m\u001b[0m\n\u001b[0;32m    213\u001b[0m             \u001b[1;31m# wake event thread (message content is ignored)\u001b[0m\u001b[1;33m\u001b[0m\u001b[1;33m\u001b[0m\u001b[1;33m\u001b[0m\u001b[0m\n\u001b[1;32m--> 214\u001b[1;33m             \u001b[0mself\u001b[0m\u001b[1;33m.\u001b[0m\u001b[0m_event_pipe\u001b[0m\u001b[1;33m.\u001b[0m\u001b[0msend\u001b[0m\u001b[1;33m(\u001b[0m\u001b[1;34mb''\u001b[0m\u001b[1;33m)\u001b[0m\u001b[1;33m\u001b[0m\u001b[1;33m\u001b[0m\u001b[0m\n\u001b[0m\u001b[0;32m    215\u001b[0m         \u001b[1;32melse\u001b[0m\u001b[1;33m:\u001b[0m\u001b[1;33m\u001b[0m\u001b[1;33m\u001b[0m\u001b[0m\n\u001b[0;32m    216\u001b[0m             \u001b[0mf\u001b[0m\u001b[1;33m(\u001b[0m\u001b[1;33m)\u001b[0m\u001b[1;33m\u001b[0m\u001b[1;33m\u001b[0m\u001b[0m\n",
      "\u001b[1;32mD:\\Anaconda3\\envs\\tf-cpu\\lib\\site-packages\\zmq\\sugar\\socket.py\u001b[0m in \u001b[0;36msend\u001b[1;34m(self, data, flags, copy, track, routing_id, group)\u001b[0m\n\u001b[0;32m    539\u001b[0m                 )\n\u001b[0;32m    540\u001b[0m             \u001b[0mdata\u001b[0m\u001b[1;33m.\u001b[0m\u001b[0mgroup\u001b[0m \u001b[1;33m=\u001b[0m \u001b[0mgroup\u001b[0m\u001b[1;33m\u001b[0m\u001b[1;33m\u001b[0m\u001b[0m\n\u001b[1;32m--> 541\u001b[1;33m         \u001b[1;32mreturn\u001b[0m \u001b[0msuper\u001b[0m\u001b[1;33m(\u001b[0m\u001b[0mSocket\u001b[0m\u001b[1;33m,\u001b[0m \u001b[0mself\u001b[0m\u001b[1;33m)\u001b[0m\u001b[1;33m.\u001b[0m\u001b[0msend\u001b[0m\u001b[1;33m(\u001b[0m\u001b[0mdata\u001b[0m\u001b[1;33m,\u001b[0m \u001b[0mflags\u001b[0m\u001b[1;33m=\u001b[0m\u001b[0mflags\u001b[0m\u001b[1;33m,\u001b[0m \u001b[0mcopy\u001b[0m\u001b[1;33m=\u001b[0m\u001b[0mcopy\u001b[0m\u001b[1;33m,\u001b[0m \u001b[0mtrack\u001b[0m\u001b[1;33m=\u001b[0m\u001b[0mtrack\u001b[0m\u001b[1;33m)\u001b[0m\u001b[1;33m\u001b[0m\u001b[1;33m\u001b[0m\u001b[0m\n\u001b[0m\u001b[0;32m    542\u001b[0m \u001b[1;33m\u001b[0m\u001b[0m\n\u001b[0;32m    543\u001b[0m     \u001b[1;32mdef\u001b[0m \u001b[0msend_multipart\u001b[0m\u001b[1;33m(\u001b[0m\u001b[0mself\u001b[0m\u001b[1;33m,\u001b[0m \u001b[0mmsg_parts\u001b[0m\u001b[1;33m,\u001b[0m \u001b[0mflags\u001b[0m\u001b[1;33m=\u001b[0m\u001b[1;36m0\u001b[0m\u001b[1;33m,\u001b[0m \u001b[0mcopy\u001b[0m\u001b[1;33m=\u001b[0m\u001b[1;32mTrue\u001b[0m\u001b[1;33m,\u001b[0m \u001b[0mtrack\u001b[0m\u001b[1;33m=\u001b[0m\u001b[1;32mFalse\u001b[0m\u001b[1;33m,\u001b[0m \u001b[1;33m**\u001b[0m\u001b[0mkwargs\u001b[0m\u001b[1;33m)\u001b[0m\u001b[1;33m:\u001b[0m\u001b[1;33m\u001b[0m\u001b[1;33m\u001b[0m\u001b[0m\n",
      "\u001b[1;32mzmq/backend/cython/socket.pyx\u001b[0m in \u001b[0;36mzmq.backend.cython.socket.Socket.send\u001b[1;34m()\u001b[0m\n",
      "\u001b[1;32mzmq/backend/cython/socket.pyx\u001b[0m in \u001b[0;36mzmq.backend.cython.socket.Socket.send\u001b[1;34m()\u001b[0m\n",
      "\u001b[1;32mzmq/backend/cython/socket.pyx\u001b[0m in \u001b[0;36mzmq.backend.cython.socket._send_copy\u001b[1;34m()\u001b[0m\n",
      "\u001b[1;32mD:\\Anaconda3\\envs\\tf-cpu\\lib\\site-packages\\zmq\\backend\\cython\\checkrc.pxd\u001b[0m in \u001b[0;36mzmq.backend.cython.checkrc._check_rc\u001b[1;34m()\u001b[0m\n",
      "\u001b[1;31mKeyboardInterrupt\u001b[0m: "
     ]
    }
   ],
   "source": [
    "from bayes_opt import BayesianOptimization\n",
    "\n",
    "# Bounded region of parameter space\n",
    "pbounds = {'x1': (0, 200), 'x2': (0, 50), \\\n",
    "           'x3': (0, 200), 'x4': (0, 50)}\n",
    "optimizer = BayesianOptimization(\n",
    "    f=episode_run,\n",
    "    pbounds=pbounds,\n",
    "    verbose=1, # verbose = 1 prints only when a maximum is observed, verbose = 0 is silent\n",
    "    random_state=1,\n",
    ")\n",
    "\n",
    "optimizer.maximize(\n",
    "    init_points=50,\n",
    "    n_iter=100,\n",
    ")"
   ]
  },
  {
   "cell_type": "markdown",
   "id": "0486456b",
   "metadata": {},
   "source": [
    "## Nonlinear"
   ]
  },
  {
   "cell_type": "code",
   "execution_count": 688,
   "id": "d3e72607",
   "metadata": {},
   "outputs": [],
   "source": [
    "class Nonlinear_Pendulum_PID_Env(gym.Env):\n",
    "    metadata = {\"render.modes\": [\"human\", \"rgb_array\"], \"video.frames_per_second\": 30}\n",
    "    '''\n",
    "    only PID integrated environment\n",
    "    '''\n",
    "    def __init__(self):\n",
    "        self.M = .5\n",
    "        self.m = 0.2\n",
    "        self.F0 = 0.1\n",
    "        self.F1 = 0.1\n",
    "        self.J = 0.006\n",
    "        self.g = 9.8\n",
    "        self.l = 0.3\n",
    "        self.dt = 0.01\n",
    "\n",
    "        high = np.array([np.pi/3, 10, np.pi/3, 10], dtype=np.float32)\n",
    "        self.action_space = spaces.Box(\n",
    "            low=np.array([-30], dtype=np.float32), high=np.array([30], dtype=np.float32), shape=(1,), dtype=np.float32\n",
    "        )\n",
    "        self.observation_space = spaces.Box(low=-high, high=high, dtype=np.float32)\n",
    "\n",
    "        self.seed(0)\n",
    "\n",
    "    def seed(self, seed=None):\n",
    "        self.np_random, seed = seeding.np_random(seed)\n",
    "        return [seed]\n",
    "\n",
    "    def normalize(self, x):\n",
    "        return ((x + np.pi) % (2 * np.pi)) - np.pi\n",
    "\n",
    "\n",
    "    def step(self, PID1_param=[52.49,0,7.485], PID2_param=[129.7,0,11.75], target=[0,0]):\n",
    "        '''\n",
    "        @param:\n",
    "            PID1_param, PID2_param: baseline parameters for 2 PIDs\n",
    "        '''\n",
    "        # initialization\n",
    "        x, x_d, phi, phi_d = self.state  # retrieve info of the actuator link\n",
    "\n",
    "        M = self.M\n",
    "        m = self.m\n",
    "        F0 = self.F0\n",
    "        F1 = self.F1\n",
    "        J = self.J\n",
    "        g = self.g\n",
    "        l = self.l\n",
    "        dt = self.dt\n",
    "        \n",
    "        kp1 = PID1_param[0]\n",
    "        kd1 = PID1_param[2]\n",
    "        kp2 = PID2_param[0]\n",
    "        kd2 = PID2_param[2]\n",
    "        \n",
    "        p = (M+m)*(J+m*l**2) - m**2*l**2*np.cos(phi)**2 # denominator for the A and B matrices\n",
    "        \n",
    "        \n",
    "        e1 = target[0] - phi\n",
    "        e2 = target[1] - phi_d\n",
    "        x_d_r = p*(kp1*e1+kd1*e2) + F1*(M+m)*phi_d + m*m*l*l*phi_d*phi_d*np.sin(phi)*np.cos(phi) - (M+m)*m*g*l*np.sin(phi) # - F0*m*l*np.cos(phi)*x_d\n",
    "        x_d_r += m*l*np.cos(phi)/(J+m*l*l) * (-F1*m*l*phi_d*np.cos(phi) -(J+m*l*l)*m*l*phi_d**2*np.sin(phi) \\\n",
    "                                              +F0*(J+m*l*l)*x_d +m*m*g*l*l*np.sin(phi)*np.cos(phi))\n",
    "        x_d_r -= m*l*np.cos(phi)*(p/(J+m*l*l)*kd2*x_d)\n",
    "        x_d_r /= (F0*m*l*np.cos(phi)-p*m*l*np.cos(phi)*kp2*dt/(J+m*l*l))\n",
    "        \n",
    "        u = 1/(J+m*l*l) * (-F1*m*l*phi_d*np.cos(phi) -(J+m*l*l)*m*l*phi_d**2*np.sin(phi) \\\n",
    "                           +F0*(J+m*l*l)*x_d +m*m*g*l*l*np.sin(phi)*np.cos(phi))\n",
    "        u += p/(J+m*l*l) * (kp2*dt*x_d_r - kd2*x_d)\n",
    "\n",
    "        # acceleration calculation\n",
    "        \n",
    "        phi_dd = - F1*(M+m)*phi_d - m*m*l*l*phi_d*phi_d*np.sin(phi)*np.cos(phi) + (M+m)*m*g*l*np.sin(phi) + F0*m*l*np.cos(phi)*x_d - m*l*np.cos(phi)*u\n",
    "        phi_dd /= p\n",
    "        x_dd = F1*m*l*phi_d*np.cos(phi) +(J+m*l*l)*m*l*phi_d**2*np.sin(phi) -F0*(J+m*l*l)*x_d -m*m*g*l*l*np.sin(phi)*np.cos(phi) +(J+m*l*l)*u\n",
    "        x_dd /= p\n",
    "\n",
    "        # semi-implicit euler\n",
    "        for _ in range(10):\n",
    "            x += self.dt * x_d / 10\n",
    "            x_d += self.dt * x_dd / 10\n",
    "            x = np.clip(x, -100, 100)\n",
    "            x_d = np.clip(x_d, -100, 100)\n",
    "\n",
    "            phi += self.dt * phi_d / 10\n",
    "            phi_d += self.dt * phi_dd / 10\n",
    "            phi_d = np.clip(phi_d, -100, 100)\n",
    "            phi = self.normalize(phi)\n",
    "        \n",
    "            \n",
    "            \n",
    "        ############## cost ####################\n",
    "        costs = self.normalize(phi) ** 2 + 0.1 * phi_d**2 + 0.00 * x**2 # + 0.001 * (u**2)\n",
    "\n",
    "        # Output\n",
    "        self.state = np.array([float(x), float(x_d), float(phi), float(phi_d)])\n",
    "\n",
    "        return self._get_obs(), -float(costs), False, {'x_d_r':x_d_r, 'u':u}\n",
    "\n",
    "    def reset(self):\n",
    "        # always reset all to 0\n",
    "        high = np.array([np.pi/2, 10, np.pi/2, 10], dtype=np.float32)\n",
    "        self.state = self.np_random.uniform(low=-high, high=high)\n",
    "        self.state = np.array([0, 0, 1, 0], dtype=np.float32)\n",
    "        return self.state\n",
    "\n",
    "    def _get_obs(self):\n",
    "        # we can only observe the angle of the actuator\n",
    "        x, x_d, phi, phi_d = self.state\n",
    "        return np.array([x, x_d, phi, phi_d], dtype=np.float32)"
   ]
  },
  {
   "cell_type": "code",
   "execution_count": 689,
   "id": "33617886",
   "metadata": {},
   "outputs": [],
   "source": [
    "phi_l = []\n",
    "x_l = []\n",
    "x_d_l = []\n",
    "x_d_r_l = []\n",
    "u_l = []\n",
    "\n",
    "def episode_run(x1, x2, x3, x4):\n",
    "    env = Nonlinear_Pendulum_PID_Env()\n",
    "    reward_episode = 0\n",
    "    \n",
    "\n",
    "    # Number of steps you run the agent for \n",
    "    num_steps = 500\n",
    "    obs = env.reset()\n",
    "\n",
    "\n",
    "    ################## simulation\n",
    "    for step in range(num_steps):\n",
    "\n",
    "        # apply the action\n",
    "        obs, reward, done, info = env.step([x1, 0, x2], [x3, 0, x4])\n",
    "\n",
    "        phi_l.append(obs[2])\n",
    "        x_l.append(obs[0])\n",
    "        x_d_r_l.append(info['x_d_r'])\n",
    "        x_d_l.append(obs[1])\n",
    "        u_l.append(info['u'])\n",
    "        \n",
    "        reward_episode += reward\n",
    "        \n",
    "        \n",
    "        # If the epsiode is up, then start another one\n",
    "        if done:\n",
    "            env.reset()\n",
    "\n",
    "    # Close the env\n",
    "    env.close()\n",
    "    return reward_episode"
   ]
  },
  {
   "cell_type": "code",
   "execution_count": 662,
   "id": "db784fc3",
   "metadata": {},
   "outputs": [
    {
     "data": {
      "text/plain": [
       "-0.6413155751696502"
      ]
     },
     "execution_count": 662,
     "metadata": {},
     "output_type": "execute_result"
    }
   ],
   "source": [
    "episode_run(229.6,58.69,235.7,179.9)"
   ]
  },
  {
   "cell_type": "code",
   "execution_count": 663,
   "id": "22dc60ff",
   "metadata": {},
   "outputs": [
    {
     "data": {
      "text/plain": [
       "-0.32948600731821653"
      ]
     },
     "execution_count": 663,
     "metadata": {},
     "output_type": "execute_result"
    }
   ],
   "source": [
    "episode_run(251.9,84.07,301.1,26.61)"
   ]
  },
  {
   "cell_type": "code",
   "execution_count": 664,
   "id": "9b23c373",
   "metadata": {},
   "outputs": [
    {
     "data": {
      "text/plain": [
       "-0.8107797601950418"
      ]
     },
     "execution_count": 664,
     "metadata": {},
     "output_type": "execute_result"
    }
   ],
   "source": [
    "episode_run(147.4,42.98,112.6,75.7011)"
   ]
  },
  {
   "cell_type": "code",
   "execution_count": 690,
   "id": "49ef4350",
   "metadata": {},
   "outputs": [
    {
     "data": {
      "text/plain": [
       "-179.8584378168846"
      ]
     },
     "execution_count": 690,
     "metadata": {},
     "output_type": "execute_result"
    }
   ],
   "source": [
    "episode_run(133.8,46.67,82.17,80.336)"
   ]
  },
  {
   "cell_type": "code",
   "execution_count": 691,
   "id": "dad0903c",
   "metadata": {},
   "outputs": [
    {
     "data": {
      "text/plain": [
       "[<matplotlib.lines.Line2D at 0x274a1fd9e20>]"
      ]
     },
     "execution_count": 691,
     "metadata": {},
     "output_type": "execute_result"
    },
    {
     "data": {
      "image/png": "[encoded data removed]",
      "text/plain": [
       "<Figure size 432x288 with 1 Axes>"
      ]
     },
     "metadata": {
      "needs_background": "light"
     },
     "output_type": "display_data"
    }
   ],
   "source": [
    "plt.plot(phi_l)"
   ]
  },
  {
   "cell_type": "code",
   "execution_count": 656,
   "id": "f694dee5",
   "metadata": {},
   "outputs": [
    {
     "data": {
      "text/plain": [
       "[<matplotlib.lines.Line2D at 0x274a1d497c0>]"
      ]
     },
     "execution_count": 656,
     "metadata": {},
     "output_type": "execute_result"
    },
    {
     "data": {
      "image/png": "[encoded data removed]",
      "text/plain": [
       "<Figure size 432x288 with 1 Axes>"
      ]
     },
     "metadata": {
      "needs_background": "light"
     },
     "output_type": "display_data"
    }
   ],
   "source": [
    "plt.plot(x_l)"
   ]
  },
  {
   "cell_type": "code",
   "execution_count": 635,
   "id": "3f4ecd64",
   "metadata": {},
   "outputs": [
    {
     "data": {
      "text/plain": [
       "[<matplotlib.lines.Line2D at 0x274a0bc8b80>]"
      ]
     },
     "execution_count": 635,
     "metadata": {},
     "output_type": "execute_result"
    },
    {
     "data": {
      "image/png": "[encoded data removed]",
      "text/plain": [
       "<Figure size 432x288 with 1 Axes>"
      ]
     },
     "metadata": {
      "needs_background": "light"
     },
     "output_type": "display_data"
    }
   ],
   "source": [
    "plt.plot(x_d_l)\n",
    "# plt.plot(x_d_r_l)"
   ]
  },
  {
   "cell_type": "code",
   "execution_count": 636,
   "id": "9c118b9f",
   "metadata": {},
   "outputs": [
    {
     "data": {
      "text/plain": [
       "[<matplotlib.lines.Line2D at 0x274a0c28df0>]"
      ]
     },
     "execution_count": 636,
     "metadata": {},
     "output_type": "execute_result"
    },
    {
     "data": {
      "image/png": "[encoded data removed]",
      "text/plain": [
       "<Figure size 432x288 with 1 Axes>"
      ]
     },
     "metadata": {
      "needs_background": "light"
     },
     "output_type": "display_data"
    }
   ],
   "source": [
    "plt.plot(u_l)"
   ]
  },
  {
   "cell_type": "code",
   "execution_count": 371,
   "id": "4f614e41",
   "metadata": {
    "scrolled": true
   },
   "outputs": [
    {
     "name": "stdout",
     "output_type": "stream",
     "text": [
      "|   iter    |  target   |    x1     |    x2     |    x3     |    x4     |\n",
      "-------------------------------------------------------------------------\n",
      "| \u001b[95m 3       \u001b[0m | \u001b[95m-25.15   \u001b[0m | \u001b[95m 79.35   \u001b[0m | \u001b[95m 26.94   \u001b[0m | \u001b[95m 83.84   \u001b[0m | \u001b[95m 34.26   \u001b[0m |\n",
      "| \u001b[95m 5       \u001b[0m | \u001b[95m-18.55   \u001b[0m | \u001b[95m 83.46   \u001b[0m | \u001b[95m 27.93   \u001b[0m | \u001b[95m 28.08   \u001b[0m | \u001b[95m 9.905   \u001b[0m |\n",
      "| \u001b[95m 6       \u001b[0m | \u001b[95m-16.81   \u001b[0m | \u001b[95m 160.1   \u001b[0m | \u001b[95m 48.41   \u001b[0m | \u001b[95m 62.68   \u001b[0m | \u001b[95m 34.62   \u001b[0m |\n",
      "| \u001b[95m 9       \u001b[0m | \u001b[95m-14.09   \u001b[0m | \u001b[95m 191.6   \u001b[0m | \u001b[95m 26.66   \u001b[0m | \u001b[95m 138.4   \u001b[0m | \u001b[95m 15.78   \u001b[0m |\n",
      "| \u001b[95m 14      \u001b[0m | \u001b[95m-9.803   \u001b[0m | \u001b[95m 42.33   \u001b[0m | \u001b[95m 13.28   \u001b[0m | \u001b[95m 98.31   \u001b[0m | \u001b[95m 2.668   \u001b[0m |\n",
      "| \u001b[95m 30      \u001b[0m | \u001b[95m-8.609   \u001b[0m | \u001b[95m 150.8   \u001b[0m | \u001b[95m 46.15   \u001b[0m | \u001b[95m 142.3   \u001b[0m | \u001b[95m 6.214   \u001b[0m |\n",
      "| \u001b[95m 82      \u001b[0m | \u001b[95m-8.412   \u001b[0m | \u001b[95m 147.4   \u001b[0m | \u001b[95m 42.98   \u001b[0m | \u001b[95m 112.6   \u001b[0m | \u001b[95m 0.7011  \u001b[0m |\n",
      "| \u001b[95m 133     \u001b[0m | \u001b[95m-8.3     \u001b[0m | \u001b[95m 150.7   \u001b[0m | \u001b[95m 50.0    \u001b[0m | \u001b[95m 68.09   \u001b[0m | \u001b[95m 0.0     \u001b[0m |\n",
      "=========================================================================\n"
     ]
    }
   ],
   "source": [
    "from bayes_opt import BayesianOptimization\n",
    "\n",
    "# Bounded region of parameter space\n",
    "pbounds = {'x1': (0, 200), 'x2': (0, 50), \\\n",
    "           'x3': (0, 200), 'x4': (0, 50)}\n",
    "optimizer = BayesianOptimization(\n",
    "    f=episode_run,\n",
    "    pbounds=pbounds,\n",
    "    verbose=1, # verbose = 1 prints only when a maximum is observed, verbose = 0 is silent\n",
    "    random_state=1,\n",
    ")\n",
    "\n",
    "optimizer.maximize(\n",
    "    init_points=50,\n",
    "    n_iter=100,\n",
    ")"
   ]
  },
  {
   "cell_type": "markdown",
   "id": "7eb5173e",
   "metadata": {},
   "source": [
    "## Jacobian"
   ]
  },
  {
   "cell_type": "code",
   "execution_count": 731,
   "id": "5b99405f",
   "metadata": {},
   "outputs": [],
   "source": [
    "import sympy\n",
    "e1, e2, e3, e4 = sympy.symbols(\"e1 e2 e3 e4\")\n",
    "M,m,F0,F1,J,g,l,dt = sympy.symbols(\"M m F0 F1 J g l dt\")\n",
    "\n",
    "M = .5\n",
    "m = 0.2\n",
    "F0 = 0.1\n",
    "F1 = 0.1\n",
    "J = 0.006\n",
    "g = 9.8\n",
    "l = 0.3\n",
    "dt = 0.01\n",
    "\n",
    "kp1 = 147.4\n",
    "kd1 = 42.98\n",
    "kp2 = 112.6\n",
    "kd2 = 75.016\n",
    "\n",
    "'''kp1 = 133.8\n",
    "kd1 = 46.67\n",
    "kp2 = 82.17\n",
    "kd2 = 80.336'''\n",
    "\n",
    "p = (M+m)*(J+m*l**2) - m**2*l**2*sympy.cos(e1)**2\n",
    "p_d = 2*m*m*l*l*sympy.cos(e1)*sympy.sin(e1)*e2\n",
    "\n",
    "A = p*(kp1*e1+kd1*e2) - F1*(M+m)*e2 + (M+m)*m*g*l*sympy.sin(e1)\n",
    "A += m*l*sympy.cos(e1)/(J+m*l*l) * (F1*m*l*e2*sympy.cos(e1) -F0*(J+m*l*l)*e4 -m*m*g*l*l*sympy.sin(e1)*sympy.cos(e1))\n",
    "A += m*l*sympy.cos(e1)*(p/(J+m*l*l)*kd2*e4)\n",
    "\n",
    "B = F0*m*l*sympy.cos(e1)-p*m*l*sympy.cos(e1)*kp2*dt/(J+m*l*l)\n",
    "\n",
    "\n",
    "u = 1/(J+m*l*l) * (F1*m*l*e2*sympy.cos(e1) +(J+m*l*l)*m*l*e2*e2*sympy.sin(e1) \\\n",
    "                   -F0*(J+m*l*l)*e4 \\\n",
    "                   -m*m*g*l*l*sympy.sin(e1)*sympy.cos(e1) \\\n",
    "                   +p*kp2*e3 \\\n",
    "                   +p*kd2*e4 )\n",
    "\n",
    "e1_d = e2\n",
    "e2_d =  -F1/p*(M+m)*e2 -m*m*l*l/p*e2*e2*sympy.sin(e1)*sympy.cos(e1) +F0*m*l/p*sympy.cos(e1)*e4 +(M+m)*m*g*l/p*sympy.sin(e1) +m*l/p*sympy.cos(e1)*u\n",
    "e4_d = -kp2*e3-kd2*e4\n",
    "\n",
    "\n",
    "\n",
    "A_d = p_d*kp1*e1+p*kp1*e2 +p_d*kd1*e2+p*kd1*e2_d -F1*(M+m)*e2_d  +(M+m)*m*g*l*sympy.cos(e1)*e2\n",
    "A_d += m*l/(J+m*l*l)*( F1*m*l*(e2_d*sympy.cos(e1)*sympy.cos(e1)-e2*2*sympy.cos(e1)*sympy.sin(e1)*e2) \\\n",
    "                      - F0*(J+m*l*l)*(e4_d*sympy.cos(e1)-e4*sympy.sin(e1)*e2) \\\n",
    "                     -m*m*g*l*l*( -sympy.sin(e1)*e2*sympy.sin(2*e1)/2 +sympy.cos(e1)*sympy.cos(2*e1)*e2)  )\n",
    "A_d += m*l*kd2/(J+m*l*l)*( (p_d*e4+p*e4_d)*sympy.cos(e1) + p*e4*(-sympy.sin(e1))*e2   )\n",
    "\n",
    "B_d = -F0*m*l*sympy.sin(e1)*e2 - m*l*kp2*dt/(J+m*l*l)*(p_d*sympy.cos(e1)-p*sympy.sin(e1)*e2)\n",
    "\n",
    "x3_d = (A_d*B-B_d*A)/B/B * dt\n",
    "\n",
    "\n",
    "#x_d_r = p*(kp1*e1+kd1*e2) - F1*(M+m)*e2 + m*m*l*l*e2*sympy.sin(e1)*sympy.cos(e1) - (M+m)*m*g*l*sympy.sin(e1) + F0*m*l*sympy.cos(e1)*e4\n",
    "#x_d_r += m*l*sympy.cos(e1)/(J+m*l*l) * (F1*m*l*e2*sympy.cos(e1) +(J+m*l*l)*m*l*e2**2*sympy.sin(e1) -F0*(J+m*l*l)*e4 -m*m*g*l*l*sympy.sin(e1)*sympy.cos(e1))\n",
    "#x_d_r += m*l*sympy.cos(e1)*(p/(J+m*l*l)*kd2*e4)\n",
    "#x_d_r /= (F0*m*l*sympy.cos(e1)-p*m*l*sympy.cos(e1)*kp2*dt/(J+m*l*l))\n",
    "\n",
    "j21 = sympy.diff(e2_d, e1)\n",
    "j22 = sympy.diff(e2_d, e2)\n",
    "j23 = sympy.diff(e2_d, e3)\n",
    "j24 = sympy.diff(e2_d, e4)\n",
    "\n",
    "j31 = sympy.diff(x3_d, e1)\n",
    "j32 = sympy.diff(x3_d, e2)\n",
    "j33 = sympy.diff(x3_d, e3)\n",
    "j34 = sympy.diff(x3_d, e4)\n",
    "\n",
    "\n",
    "JM = sympy.Matrix([[0,1,0,0],\n",
    "                  [j21,j22,j23,j24],\n",
    "                  [j31,j32,j33,j34],\n",
    "                  [0,0,-kp2,-kd2]])"
   ]
  },
  {
   "cell_type": "code",
   "execution_count": 721,
   "id": "5bf6b0df",
   "metadata": {},
   "outputs": [
    {
     "data": {
      "text/latex": [
       "$\\displaystyle \\left[\\begin{matrix}0 & 1.0 & 0 & 0\\\\24.5 & -4.16666666666667 & 281.5 & 187.54\\\\-4.02857436292445 & -0.0431178723495304 & 42.9572722254317 & 28.6188519827974\\\\0 & 0 & -112.6 & -75.016\\end{matrix}\\right]$"
      ],
      "text/plain": [
       "Matrix([\n",
       "[                0,                 1.0,                0,                0],\n",
       "[             24.5,   -4.16666666666667,            281.5,           187.54],\n",
       "[-4.02857436292445, -0.0431178723495304, 42.9572722254317, 28.6188519827974],\n",
       "[                0,                   0,           -112.6,          -75.016]])"
      ]
     },
     "execution_count": 721,
     "metadata": {},
     "output_type": "execute_result"
    }
   ],
   "source": [
    "JM.evalf(subs={'e1':0, 'e2':0, 'e3':0, 'e4':0})"
   ]
  },
  {
   "cell_type": "code",
   "execution_count": 737,
   "id": "4da704d9",
   "metadata": {},
   "outputs": [
    {
     "data": {
      "text/plain": [
       "(array([-1.70008799e+01+60.56776532j, -1.70008799e+01-60.56776532j,\n",
       "         4.02347375e-14 +0.j        , -3.87510231e+00 +0.j        ]),\n",
       " array([[ 4.69360073e-04+0.00221728j,  4.69360073e-04-0.00221728j,\n",
       "         -1.64133025e-17+0.j        ,  1.57258640e-01+0.j        ],\n",
       "        [-1.42275245e-01-0.00926762j, -1.42275245e-01+0.00926762j,\n",
       "          2.83905774e-16+0.j        , -6.09393319e-01+0.j        ],\n",
       "        [-4.08982159e-01-0.42697723j, -4.08982159e-01+0.42697723j,\n",
       "          5.54440917e-01+0.j        ,  4.15079293e-01+0.j        ],\n",
       "        [ 7.93782569e-01+0.j        ,  7.93782569e-01-0.j        ,\n",
       "         -8.32223089e-01+0.j        , -6.56976927e-01+0.j        ]]))"
      ]
     },
     "execution_count": 737,
     "metadata": {},
     "output_type": "execute_result"
    }
   ],
   "source": [
    "np.linalg.eig(np.array(JM.evalf(subs={'e1':1.5, 'e2':0, 'e3':0, 'e4':0}), dtype=np.float64))"
   ]
  },
  {
   "cell_type": "code",
   "execution_count": 732,
   "id": "a9ae2854",
   "metadata": {
    "scrolled": false
   },
   "outputs": [
    {
     "data": {
      "text/plain": [
       "[(-1.68303363709291 - 2.78862069992849*I,\n",
       "  1,\n",
       "  [Matrix([\n",
       "   [0.0700734659065985 + 0.141135305851181*I],\n",
       "   [ 0.275636835198853 - 0.432943784671808*I],\n",
       "   [0.458093982872364 + 0.0484291435737288*I],\n",
       "   [ -0.699546717207295 - 0.10096266917573*I]])]),\n",
       " (-1.68303363709291 + 2.78862069992849*I,\n",
       "  1,\n",
       "  [Matrix([\n",
       "   [-0.171008734923129 - 0.0836655846564466*I],\n",
       "   [  0.521125034356917 - 0.336066504831376*I],\n",
       "   [-0.0617392378716069 - 0.553112080974447*I],\n",
       "   [  0.126910284879311 + 0.844456712194283*I]])]),\n",
       " (-5.75524219905052e-14 - 1.34254577319402e-63*I,\n",
       "  1,\n",
       "  [Matrix([\n",
       "   [-4.55450940806824e-15 - 2.65706916196748e-17*I],\n",
       "   [   2.6212304741287e-28 + 1.5292076566751e-30*I],\n",
       "   [    -0.657311303495984 - 0.00383470850062992*I],\n",
       "   [     0.986632888632396 + 0.00575594776009024*I]])]),\n",
       " (-32.8593271670491,\n",
       "  1,\n",
       "  [Matrix([\n",
       "   [-0.0390356546444046 - 2.61544805995379e-64*I],\n",
       "   [   1.28268534714043 - 2.02981571739324e-64*I],\n",
       "   [  0.163374958332762 - 1.88396848218684e-64*I],\n",
       "   [ -0.436372680101312 + 2.33039757038108e-64*I]])])]"
      ]
     },
     "execution_count": 732,
     "metadata": {},
     "output_type": "execute_result"
    }
   ],
   "source": [
    "JM.evalf(subs={'e1':0, 'e2':0, 'e3':0, 'e4':0}).eigenvects()"
   ]
  },
  {
   "cell_type": "code",
   "execution_count": 9,
   "id": "9c3f6132",
   "metadata": {},
   "outputs": [
    {
     "data": {
      "text/latex": [
       "$\\displaystyle - 3.29280234204577 e_{2}^{2} + 168.087376265374 e_{2} - 36.8390116835002 e_{4} + 469.345300787319$"
      ],
      "text/plain": [
       "-3.29280234204577*e2**2 + 168.087376265374*e2 - 36.8390116835002*e4 + 469.345300787319"
      ]
     },
     "execution_count": 9,
     "metadata": {},
     "output_type": "execute_result"
    }
   ],
   "source": [
    "sympy.diff(x_d_r, e1).evalf(subs={'e1':3})"
   ]
  },
  {
   "cell_type": "code",
   "execution_count": 10,
   "id": "dd2c3ee2",
   "metadata": {},
   "outputs": [
    {
     "data": {
      "text/plain": [
       "'\\\\left[\\\\begin{matrix}0 & 1.0 & 0 & 0\\\\\\\\\\\\frac{0.092 e_{2}^{2} \\\\sin^{2}{\\\\left(e_{1} \\\\right)} \\\\cos^{2}{\\\\left(e_{1} \\\\right)}}{\\\\left(1.0 - 0.21 \\\\cos^{2}{\\\\left(e_{1} \\\\right)}\\\\right)^{2}} + \\\\frac{0.0036 e_{2}^{2} \\\\sin^{2}{\\\\left(e_{1} \\\\right)}}{0.017 - 0.0036 \\\\cos^{2}{\\\\left(e_{1} \\\\right)}} - \\\\frac{0.0036 e_{2}^{2} \\\\cos^{2}{\\\\left(e_{1} \\\\right)}}{0.017 - 0.0036 \\\\cos^{2}{\\\\left(e_{1} \\\\right)}} + \\\\frac{1.8 e_{2} \\\\sin{\\\\left(e_{1} \\\\right)} \\\\cos{\\\\left(e_{1} \\\\right)}}{\\\\left(1.0 - 0.21 \\\\cos^{2}{\\\\left(e_{1} \\\\right)}\\\\right)^{2}} - \\\\frac{0.15 e_{4} \\\\sin{\\\\left(e_{1} \\\\right)} \\\\cos^{2}{\\\\left(e_{1} \\\\right)}}{\\\\left(1.0 - 0.21 \\\\cos^{2}{\\\\left(e_{1} \\\\right)}\\\\right)^{2}} - \\\\frac{0.006 e_{4} \\\\sin{\\\\left(e_{1} \\\\right)}}{0.017 - 0.0036 \\\\cos^{2}{\\\\left(e_{1} \\\\right)}} + \\\\frac{1.5 \\\\left(0.06 e_{2}^{2} \\\\sin{\\\\left(e_{1} \\\\right)} + \\\\frac{0.25 e_{2} \\\\cos{\\\\left(e_{1} \\\\right)}}{0.017 - 0.0036 \\\\cos^{2}{\\\\left(e_{1} \\\\right)}} + 42.0 e_{3} \\\\left(0.25 - 0.053 \\\\cos^{2}{\\\\left(e_{1} \\\\right)}\\\\right) + 42.0 e_{4} \\\\left(0.053 - 0.011 \\\\cos^{2}{\\\\left(e_{1} \\\\right)}\\\\right) - 0.1 e_{4} - 1.5 \\\\sin{\\\\left(e_{1} \\\\right)} \\\\cos{\\\\left(e_{1} \\\\right)}\\\\right) \\\\sin{\\\\left(e_{1} \\\\right)} \\\\cos^{2}{\\\\left(e_{1} \\\\right)}}{\\\\left(1.0 - 0.21 \\\\cos^{2}{\\\\left(e_{1} \\\\right)}\\\\right)^{2}} + \\\\frac{11.0 \\\\sin^{2}{\\\\left(e_{1} \\\\right)} \\\\cos{\\\\left(e_{1} \\\\right)}}{\\\\left(1.0 - 0.21 \\\\cos^{2}{\\\\left(e_{1} \\\\right)}\\\\right)^{2}} + \\\\frac{0.06 \\\\left(0.06 e_{2}^{2} \\\\sin{\\\\left(e_{1} \\\\right)} + \\\\frac{0.25 e_{2} \\\\cos{\\\\left(e_{1} \\\\right)}}{0.017 - 0.0036 \\\\cos^{2}{\\\\left(e_{1} \\\\right)}} + 42.0 e_{3} \\\\left(0.25 - 0.053 \\\\cos^{2}{\\\\left(e_{1} \\\\right)}\\\\right) + 42.0 e_{4} \\\\left(0.053 - 0.011 \\\\cos^{2}{\\\\left(e_{1} \\\\right)}\\\\right) - 0.1 e_{4} - 1.5 \\\\sin{\\\\left(e_{1} \\\\right)} \\\\cos{\\\\left(e_{1} \\\\right)}\\\\right) \\\\sin{\\\\left(e_{1} \\\\right)}}{0.017 - 0.0036 \\\\cos^{2}{\\\\left(e_{1} \\\\right)}} - \\\\frac{0.06 \\\\left(0.06 e_{2}^{2} \\\\cos{\\\\left(e_{1} \\\\right)} - \\\\frac{6.4 e_{2} \\\\sin{\\\\left(e_{1} \\\\right)} \\\\cos^{2}{\\\\left(e_{1} \\\\right)}}{\\\\left(1.0 - 0.21 \\\\cos^{2}{\\\\left(e_{1} \\\\right)}\\\\right)^{2}} - \\\\frac{0.25 e_{2} \\\\sin{\\\\left(e_{1} \\\\right)}}{0.017 - 0.0036 \\\\cos^{2}{\\\\left(e_{1} \\\\right)}} + 4.4 e_{3} \\\\sin{\\\\left(e_{1} \\\\right)} \\\\cos{\\\\left(e_{1} \\\\right)} + 0.94 e_{4} \\\\sin{\\\\left(e_{1} \\\\right)} \\\\cos{\\\\left(e_{1} \\\\right)} + 1.5 \\\\sin^{2}{\\\\left(e_{1} \\\\right)} - 1.5 \\\\cos^{2}{\\\\left(e_{1} \\\\right)}\\\\right) \\\\cos{\\\\left(e_{1} \\\\right)}}{0.017 - 0.0036 \\\\cos^{2}{\\\\left(e_{1} \\\\right)}} - \\\\frac{0.41 \\\\cos{\\\\left(e_{1} \\\\right)}}{0.017 - 0.0036 \\\\cos^{2}{\\\\left(e_{1} \\\\right)}} & - \\\\frac{0.0072 e_{2} \\\\sin{\\\\left(e_{1} \\\\right)} \\\\cos{\\\\left(e_{1} \\\\right)}}{0.017 - 0.0036 \\\\cos^{2}{\\\\left(e_{1} \\\\right)}} - \\\\frac{0.06 \\\\left(0.12 e_{2} \\\\sin{\\\\left(e_{1} \\\\right)} + \\\\frac{0.25 \\\\cos{\\\\left(e_{1} \\\\right)}}{0.017 - 0.0036 \\\\cos^{2}{\\\\left(e_{1} \\\\right)}}\\\\right) \\\\cos{\\\\left(e_{1} \\\\right)}}{0.017 - 0.0036 \\\\cos^{2}{\\\\left(e_{1} \\\\right)}} - \\\\frac{0.07}{0.017 - 0.0036 \\\\cos^{2}{\\\\left(e_{1} \\\\right)}} & - \\\\frac{0.06 \\\\left(10.0 - 2.2 \\\\cos^{2}{\\\\left(e_{1} \\\\right)}\\\\right) \\\\cos{\\\\left(e_{1} \\\\right)}}{0.017 - 0.0036 \\\\cos^{2}{\\\\left(e_{1} \\\\right)}} & - \\\\frac{0.06 \\\\left(2.1 - 0.47 \\\\cos^{2}{\\\\left(e_{1} \\\\right)}\\\\right) \\\\cos{\\\\left(e_{1} \\\\right)}}{0.017 - 0.0036 \\\\cos^{2}{\\\\left(e_{1} \\\\right)}} + \\\\frac{0.006 \\\\cos{\\\\left(e_{1} \\\\right)}}{0.017 - 0.0036 \\\\cos^{2}{\\\\left(e_{1} \\\\right)}}\\\\\\\\\\\\frac{0.027 \\\\left(\\\\left(0.0013 \\\\cos^{2}{\\\\left(e_{1} \\\\right)} - 0.0062\\\\right) \\\\sin{\\\\left(e_{1} \\\\right)} + 0.0026 \\\\sin{\\\\left(e_{1} \\\\right)} \\\\cos^{2}{\\\\left(e_{1} \\\\right)} + 0.006 \\\\sin{\\\\left(e_{1} \\\\right)}\\\\right) \\\\left(0.0036 e_{2} \\\\sin{\\\\left(e_{1} \\\\right)} \\\\cos{\\\\left(e_{1} \\\\right)} - 0.07 e_{2} + 0.06 e_{4} \\\\left(2.2 - 0.47 \\\\cos^{2}{\\\\left(e_{1} \\\\right)}\\\\right) \\\\cos{\\\\left(e_{1} \\\\right)} + 0.006 e_{4} \\\\cos{\\\\left(e_{1} \\\\right)} + \\\\left(0.017 - 0.0036 \\\\cos^{2}{\\\\left(e_{1} \\\\right)}\\\\right) \\\\left(1.3 \\\\cdot 10^{2} e_{1} + 31.0 e_{2}\\\\right) + 2.5 \\\\left(0.0014 e_{2}^{2} \\\\sin{\\\\left(e_{1} \\\\right)} + 0.006 e_{2} \\\\cos{\\\\left(e_{1} \\\\right)} - 0.0024 e_{4} - 0.035 \\\\sin{\\\\left(e_{1} \\\\right)} \\\\cos{\\\\left(e_{1} \\\\right)}\\\\right) \\\\cos{\\\\left(e_{1} \\\\right)} - 0.41 \\\\sin{\\\\left(e_{1} \\\\right)}\\\\right)}{\\\\left(- \\\\left(0.001 - 0.00022 \\\\cos^{2}{\\\\left(e_{1} \\\\right)}\\\\right) \\\\cos{\\\\left(e_{1} \\\\right)} + 0.00098 \\\\cos{\\\\left(e_{1} \\\\right)}\\\\right)^{2}} + \\\\frac{- 0.0036 e_{2} \\\\sin^{2}{\\\\left(e_{1} \\\\right)} + 0.0036 e_{2} \\\\cos^{2}{\\\\left(e_{1} \\\\right)} - 0.06 e_{4} \\\\left(2.2 - 0.47 \\\\cos^{2}{\\\\left(e_{1} \\\\right)}\\\\right) \\\\sin{\\\\left(e_{1} \\\\right)} + 0.056 e_{4} \\\\sin{\\\\left(e_{1} \\\\right)} \\\\cos^{2}{\\\\left(e_{1} \\\\right)} - 0.006 e_{4} \\\\sin{\\\\left(e_{1} \\\\right)} + 0.0072 \\\\left(1.3 \\\\cdot 10^{2} e_{1} + 31.0 e_{2}\\\\right) \\\\sin{\\\\left(e_{1} \\\\right)} \\\\cos{\\\\left(e_{1} \\\\right)} - \\\\left(0.0036 e_{2}^{2} \\\\sin{\\\\left(e_{1} \\\\right)} + 0.015 e_{2} \\\\cos{\\\\left(e_{1} \\\\right)} - 0.006 e_{4} - 0.088 \\\\sin{\\\\left(e_{1} \\\\right)} \\\\cos{\\\\left(e_{1} \\\\right)}\\\\right) \\\\sin{\\\\left(e_{1} \\\\right)} + \\\\left(0.0036 e_{2}^{2} \\\\cos{\\\\left(e_{1} \\\\right)} - 0.015 e_{2} \\\\sin{\\\\left(e_{1} \\\\right)} + 0.088 \\\\sin^{2}{\\\\left(e_{1} \\\\right)} - 0.088 \\\\cos^{2}{\\\\left(e_{1} \\\\right)}\\\\right) \\\\cos{\\\\left(e_{1} \\\\right)} - 0.45 \\\\cos^{2}{\\\\left(e_{1} \\\\right)} - 0.41 \\\\cos{\\\\left(e_{1} \\\\right)} + 2.1}{- 6.1 \\\\left(0.001 - 0.00022 \\\\cos^{2}{\\\\left(e_{1} \\\\right)}\\\\right) \\\\cos{\\\\left(e_{1} \\\\right)} + 0.006 \\\\cos{\\\\left(e_{1} \\\\right)}} & \\\\frac{\\\\left(0.0072 e_{2} \\\\sin{\\\\left(e_{1} \\\\right)} + 0.015 \\\\cos{\\\\left(e_{1} \\\\right)}\\\\right) \\\\cos{\\\\left(e_{1} \\\\right)} + 0.0036 \\\\sin{\\\\left(e_{1} \\\\right)} \\\\cos{\\\\left(e_{1} \\\\right)} - 0.11 \\\\cos^{2}{\\\\left(e_{1} \\\\right)} + 0.45}{- 6.1 \\\\left(0.001 - 0.00022 \\\\cos^{2}{\\\\left(e_{1} \\\\right)}\\\\right) \\\\cos{\\\\left(e_{1} \\\\right)} + 0.006 \\\\cos{\\\\left(e_{1} \\\\right)}} & 0 & \\\\frac{\\\\left(0.13 - 0.028 \\\\cos^{2}{\\\\left(e_{1} \\\\right)}\\\\right) \\\\cos{\\\\left(e_{1} \\\\right)} + 1.7 \\\\cdot 10^{-18} \\\\cos{\\\\left(e_{1} \\\\right)}}{- 6.1 \\\\left(0.001 - 0.00022 \\\\cos^{2}{\\\\left(e_{1} \\\\right)}\\\\right) \\\\cos{\\\\left(e_{1} \\\\right)} + 0.006 \\\\cos{\\\\left(e_{1} \\\\right)}}\\\\\\\\0 & 0 & -15.0 & -3.1\\\\end{matrix}\\\\right]'"
      ]
     },
     "execution_count": 10,
     "metadata": {},
     "output_type": "execute_result"
    }
   ],
   "source": [
    "sympy.printing.latex(JM.evalf(2))"
   ]
  },
  {
   "cell_type": "code",
   "execution_count": 22,
   "id": "388bf97d",
   "metadata": {},
   "outputs": [],
   "source": [
    "l = []\n",
    "for i in range(200):\n",
    "    \n",
    "    l.append(float(x_d_r.evalf(subs={'e1':(i-100)/100, 'e2':0,'e3':0, 'e4':0})))\n",
    "    "
   ]
  },
  {
   "cell_type": "code",
   "execution_count": 23,
   "id": "0f4daf82",
   "metadata": {},
   "outputs": [
    {
     "data": {
      "text/plain": [
       "[<matplotlib.lines.Line2D at 0x26d1d4479d0>]"
      ]
     },
     "execution_count": 23,
     "metadata": {},
     "output_type": "execute_result"
    },
    {
     "data": {
      "image/png": "[encoded data removed]",
      "text/plain": [
       "<Figure size 432x288 with 1 Axes>"
      ]
     },
     "metadata": {
      "needs_background": "light"
     },
     "output_type": "display_data"
    }
   ],
   "source": [
    "plt.plot(l)"
   ]
  },
  {
   "cell_type": "code",
   "execution_count": 17,
   "id": "f5ebee5f",
   "metadata": {},
   "outputs": [
    {
     "data": {
      "text/latex": [
       "$\\displaystyle \\frac{0.0036 e_{2} \\sin{\\left(e_{1} \\right)} \\cos{\\left(e_{1} \\right)} - 0.07 e_{2} + 0.06 e_{4} \\left(2.1924 - 0.4698 \\cos^{2}{\\left(e_{1} \\right)}\\right) \\cos{\\left(e_{1} \\right)} + 0.006 e_{4} \\cos{\\left(e_{1} \\right)} + \\left(0.0168 - 0.0036 \\cos^{2}{\\left(e_{1} \\right)}\\right) \\left(125.0 e_{1} + 30.78 e_{2}\\right) + 2.5 \\left(0.00144 e_{2}^{2} \\sin{\\left(e_{1} \\right)} + 0.006 e_{2} \\cos{\\left(e_{1} \\right)} - 0.0024 e_{4} - 0.03528 \\sin{\\left(e_{1} \\right)} \\cos{\\left(e_{1} \\right)}\\right) \\cos{\\left(e_{1} \\right)} - 0.4116 \\sin{\\left(e_{1} \\right)}}{- 6.1125 \\left(0.001008 - 0.000216 \\cos^{2}{\\left(e_{1} \\right)}\\right) \\cos{\\left(e_{1} \\right)} + 0.006 \\cos{\\left(e_{1} \\right)}}$"
      ],
      "text/plain": [
       "(0.0036*e2*sin(e1)*cos(e1) - 0.07*e2 + 0.06*e4*(2.1924 - 0.4698*cos(e1)**2)*cos(e1) + 0.006*e4*cos(e1) + (0.0168 - 0.0036*cos(e1)**2)*(125.0*e1 + 30.78*e2) + 2.5*(0.00144*e2**2*sin(e1) + 0.006*e2*cos(e1) - 0.0024*e4 - 0.03528*sin(e1)*cos(e1))*cos(e1) - 0.4116*sin(e1))/(-6.1125*(0.001008 - 0.000216*cos(e1)**2)*cos(e1) + 0.006*cos(e1))"
      ]
     },
     "execution_count": 17,
     "metadata": {},
     "output_type": "execute_result"
    }
   ],
   "source": [
    "x_d_r"
   ]
  },
  {
   "cell_type": "code",
   "execution_count": null,
   "id": "de70378a",
   "metadata": {},
   "outputs": [],
   "source": []
  }
 ],
 "metadata": {
  "kernelspec": {
   "display_name": "Python 3 (ipykernel)",
   "language": "python",
   "name": "python3"
  },
  "language_info": {
   "codemirror_mode": {
    "name": "ipython",
    "version": 3
   },
   "file_extension": ".py",
   "mimetype": "text/x-python",
   "name": "python",
   "nbconvert_exporter": "python",
   "pygments_lexer": "ipython3",
   "version": "3.8.5"
  }
 },
 "nbformat": 4,
 "nbformat_minor": 5
}
